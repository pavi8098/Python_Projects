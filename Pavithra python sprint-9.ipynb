{
 "cells": [
  {
   "cell_type": "code",
   "execution_count": 1,
   "id": "e9b27ba7-c3d8-4633-a95e-ac73a4d088f8",
   "metadata": {},
   "outputs": [],
   "source": [
    "import numpy as np\n",
    "import pandas as pd\n",
    "import seaborn as sns\n",
    "from matplotlib import pyplot as plt"
   ]
  },
  {
   "cell_type": "code",
   "execution_count": 2,
   "id": "ca08d01b-c804-4013-816b-b31e68829ae2",
   "metadata": {
    "scrolled": true
   },
   "outputs": [],
   "source": [
    "car=pd.read_excel(r\"C:\\Users\\Baskar\\OneDrive\\Desktop\\Python for data science\\DS1_C4_S9_Car_Data.xlsx\")"
   ]
  },
  {
   "cell_type": "code",
   "execution_count": 3,
   "id": "f296016e-accd-4d18-8864-4b12d8bcfe7c",
   "metadata": {},
   "outputs": [
    {
     "data": {
      "text/plain": [
       "Index(['S. No.', 'Make', 'Model', 'Variant', 'Displacement', 'Cylinders',\n",
       "       'Valves_Per_Cylinder', 'Fuel_Tank_Capacity_litre', 'Fuel_Type',\n",
       "       'Height_mm', 'Length_mm', 'Width_mm', 'Body_Type', 'Doors',\n",
       "       'City_Mileage_km_litre', 'Highway_Mileage_km_litre', 'Kerb_Weight',\n",
       "       'Power', 'Torque', 'Seating_Capacity', 'Central_Locking',\n",
       "       'Child_Safety_Locks', 'Hill_Assist', 'Drive_Modes',\n",
       "       'High_Speed_Alert_System', 'ABS_(Anti-lock_Braking_System)',\n",
       "       'Gross_Vehicle_Weight', 'Airbags', 'Door_Ajar_Warning',\n",
       "       'Fasten_Seat_Belt_Warning'],\n",
       "      dtype='object')"
      ]
     },
     "execution_count": 3,
     "metadata": {},
     "output_type": "execute_result"
    }
   ],
   "source": [
    "car.columns"
   ]
  },
  {
   "cell_type": "code",
   "execution_count": 5,
   "id": "8e1e0f46-dfc0-411d-997c-1601b92d9438",
   "metadata": {},
   "outputs": [
    {
     "data": {
      "text/plain": [
       "S. No.                               0\n",
       "Make                                75\n",
       "Model                                0\n",
       "Variant                              0\n",
       "Displacement                        12\n",
       "Cylinders                           66\n",
       "Valves_Per_Cylinder                102\n",
       "Fuel_Tank_Capacity_litre            69\n",
       "Fuel_Type                            0\n",
       "Height_mm                            1\n",
       "Length_mm                            0\n",
       "Width_mm                            12\n",
       "Body_Type                            6\n",
       "Doors                                4\n",
       "City_Mileage_km_litre              555\n",
       "Highway_Mileage_km_litre           800\n",
       "Kerb_Weight                        365\n",
       "Power                                0\n",
       "Torque                               2\n",
       "Seating_Capacity                     6\n",
       "Central_Locking                    149\n",
       "Child_Safety_Locks                  75\n",
       "Hill_Assist                        796\n",
       "Drive_Modes                       1081\n",
       "High_Speed_Alert_System           1068\n",
       "ABS_(Anti-lock_Braking_System)     132\n",
       "Gross_Vehicle_Weight               595\n",
       "Airbags                            132\n",
       "Door_Ajar_Warning                  143\n",
       "Fasten_Seat_Belt_Warning           190\n",
       "dtype: int64"
      ]
     },
     "execution_count": 5,
     "metadata": {},
     "output_type": "execute_result"
    }
   ],
   "source": [
    "car.isnull().sum()\n",
    "#counted the number of missing values."
   ]
  },
  {
   "cell_type": "code",
   "execution_count": 9,
   "id": "388e36dc-2232-4acc-b78a-272c77109c66",
   "metadata": {},
   "outputs": [
    {
     "data": {
      "text/plain": [
       "S. No.                              int64\n",
       "Make                               object\n",
       "Model                              object\n",
       "Variant                            object\n",
       "Displacement                      float64\n",
       "Cylinders                         float64\n",
       "Valves_Per_Cylinder               float64\n",
       "Fuel_Tank_Capacity_litre          float64\n",
       "Fuel_Type                          object\n",
       "Height_mm                         float64\n",
       "Length_mm                         float64\n",
       "Width_mm                          float64\n",
       "Body_Type                          object\n",
       "Doors                             float64\n",
       "City_Mileage_km_litre             float64\n",
       "Highway_Mileage_km_litre          float64\n",
       "Kerb_Weight                        object\n",
       "Power                             float64\n",
       "Torque                            float64\n",
       "Seating_Capacity                  float64\n",
       "Central_Locking                    object\n",
       "Child_Safety_Locks                 object\n",
       "Hill_Assist                        object\n",
       "Drive_Modes                        object\n",
       "High_Speed_Alert_System            object\n",
       "ABS_(Anti-lock_Braking_System)     object\n",
       "Gross_Vehicle_Weight               object\n",
       "Airbags                            object\n",
       "Door_Ajar_Warning                  object\n",
       "Fasten_Seat_Belt_Warning           object\n",
       "dtype: object"
      ]
     },
     "execution_count": 9,
     "metadata": {},
     "output_type": "execute_result"
    }
   ],
   "source": [
    "car.dtypes"
   ]
  },
  {
   "cell_type": "code",
   "execution_count": 15,
   "id": "ac67e9ca-fe3c-434b-bde1-67f18e3dba6a",
   "metadata": {},
   "outputs": [],
   "source": [
    "# Data preprocessing(null values,duplicates,missing value treatment and conversion of datatypes):\n",
    "car['Height_mm'].fillna(car['Displacement'].mean(),inplace=True)\n",
    "car['Make'].fillna(('Not available'),inplace=True)\n",
    "car['Displacement'].fillna(car['Displacement'].mean(),inplace=True)\n",
    "car['Cylinders'].fillna(car['Cylinders'].median(),inplace=True)\n",
    "car['Valves_Per_Cylinder'].fillna(car['Valves_Per_Cylinder'].median(),inplace=True)  \n",
    "car['Fuel_Tank_Capacity_litre'].fillna(car['Fuel_Tank_Capacity_litre'].median(),inplace=True)\n",
    "car['Width_mm'].fillna(car['Width_mm'].median(),inplace=True)\n",
    "car['Body_Type'].fillna(car['Body_Type'].mode()[0],inplace=True)\n",
    "car['Doors'].fillna(car['Doors'].median(),inplace=True)\n",
    "car['City_Mileage_km_litre'].fillna(car['City_Mileage_km_litre'].median(),inplace=True)\n",
    "car['Highway_Mileage_km_litre'].fillna(car['Highway_Mileage_km_litre'].median(),inplace=True)\n",
    "car['Kerb_Weight'].fillna(car['Kerb_Weight'].mode()[0],inplace=True)\n",
    "car['Torque'].fillna(car['Torque'].median(),inplace=True)\n",
    "car['Seating_Capacity'].fillna(car['Seating_Capacity'].median(),inplace=True)\n",
    "car['Central_Locking'].fillna(car['Central_Locking'].mode()[0],inplace=True)\n",
    "car['Child_Safety_Locks'].fillna(car['Child_Safety_Locks'].mode()[0],inplace=True)\n",
    "car['Hill_Assist'].fillna(car['Hill_Assist'].mode()[0],inplace=True)\n",
    "car['Drive_Modes'].fillna(car['Drive_Modes'].mode()[0],inplace=True)\n",
    "car['High_Speed_Alert_System'].fillna(car['High_Speed_Alert_System'].mode()[0],inplace=True)\n",
    "car['ABS_(Anti-lock_Braking_System)'].fillna(car['ABS_(Anti-lock_Braking_System)'].mode()[0],inplace=True)\n",
    "car['Gross_Vehicle_Weight'].fillna(car['Gross_Vehicle_Weight'].mode()[0],inplace=True)\n",
    "car['Airbags'].fillna(car['Airbags'].mode()[0],inplace=True)\n",
    "car['Door_Ajar_Warning'].fillna(car['Door_Ajar_Warning'].mode()[0],inplace=True)\n",
    "car['Fasten_Seat_Belt_Warning'].fillna(car['Fasten_Seat_Belt_Warning'].mode()[0],inplace=True)\n",
    "\n",
    "#replaced the missing values with mode ,mean,median."
   ]
  },
  {
   "cell_type": "code",
   "execution_count": 13,
   "id": "00ed0ac2-4e0d-46e3-95e2-e7025f3cf46e",
   "metadata": {},
   "outputs": [],
   "source": [
    "import warnings\n",
    "warnings.filterwarnings(\"ignore\")"
   ]
  },
  {
   "cell_type": "code",
   "execution_count": 17,
   "id": "6de7bd47-ba97-47bb-aa65-00fd727f78e7",
   "metadata": {},
   "outputs": [
    {
     "data": {
      "text/plain": [
       "S. No.                            0\n",
       "Make                              0\n",
       "Model                             0\n",
       "Variant                           0\n",
       "Displacement                      0\n",
       "Cylinders                         0\n",
       "Valves_Per_Cylinder               0\n",
       "Fuel_Tank_Capacity_litre          0\n",
       "Fuel_Type                         0\n",
       "Height_mm                         0\n",
       "Length_mm                         0\n",
       "Width_mm                          0\n",
       "Body_Type                         0\n",
       "Doors                             0\n",
       "City_Mileage_km_litre             0\n",
       "Highway_Mileage_km_litre          0\n",
       "Kerb_Weight                       0\n",
       "Power                             0\n",
       "Torque                            0\n",
       "Seating_Capacity                  0\n",
       "Central_Locking                   0\n",
       "Child_Safety_Locks                0\n",
       "Hill_Assist                       0\n",
       "Drive_Modes                       0\n",
       "High_Speed_Alert_System           0\n",
       "ABS_(Anti-lock_Braking_System)    0\n",
       "Gross_Vehicle_Weight              0\n",
       "Airbags                           0\n",
       "Door_Ajar_Warning                 0\n",
       "Fasten_Seat_Belt_Warning          0\n",
       "dtype: int64"
      ]
     },
     "execution_count": 17,
     "metadata": {},
     "output_type": "execute_result"
    }
   ],
   "source": [
    "car.isnull().sum()\n",
    "#After replacing there is no missing values."
   ]
  },
  {
   "cell_type": "code",
   "execution_count": 13,
   "id": "d923f517-0308-4d68-bd4c-7de5a28f02f1",
   "metadata": {},
   "outputs": [
    {
     "data": {
      "text/plain": [
       "Make          Model            \n",
       "Aston Martin  Db 11                1\n",
       "              Rapide               1\n",
       "              Vantage              1\n",
       "Audi          A3                   4\n",
       "              A3 Cabriolet         1\n",
       "                                  ..\n",
       "Volvo         V40 Cross Country    2\n",
       "              V90 Cross Country    1\n",
       "              Xc40                 3\n",
       "              Xc60                 1\n",
       "              Xc90                 5\n",
       "Name: Body_Type, Length: 263, dtype: int64"
      ]
     },
     "execution_count": 13,
     "metadata": {},
     "output_type": "execute_result"
    }
   ],
   "source": [
    "#Market senmentation analysis:\n",
    "trends=car.groupby(['Make','Model'])['Body_Type'].count()\n",
    "trends"
   ]
  },
  {
   "cell_type": "code",
   "execution_count": 21,
   "id": "4658daf3-80e2-406b-9cc3-c4a1f4a33a15",
   "metadata": {},
   "outputs": [
    {
     "data": {
      "text/plain": [
       "Body_Type\n",
       "SUV          453\n",
       "Sedan        333\n",
       "Hatchback    316\n",
       "Coupe         41\n",
       "MUV           39\n",
       "Name: Body_Type, dtype: int64"
      ]
     },
     "execution_count": 21,
     "metadata": {},
     "output_type": "execute_result"
    }
   ],
   "source": [
    "#Task-1 another method(Display the top 5 body type using horizontal bar chart:)(correct method):\n",
    "group=car.groupby('Body_Type')['Body_Type'].count()[::-1]\n",
    "group\n",
    "sorted_group=group.sort_values(ascending=False)[:5]\n",
    "sorted_group"
   ]
  },
  {
   "cell_type": "code",
   "execution_count": 23,
   "id": "78c9dcb7-9c75-4b49-b762-ec12164b3fa2",
   "metadata": {},
   "outputs": [
    {
     "data": {
      "image/png": "[encoded data removed]",
      "text/plain": [
       "<Figure size 640x480 with 1 Axes>"
      ]
     },
     "metadata": {},
     "output_type": "display_data"
    }
   ],
   "source": [
    "plt.barh(sorted_group.index,sorted_group.values,color='lightgreen')\n",
    "plt.title('Make wise body type with top 5')\n",
    "plt.xlabel('Body type')\n",
    "plt.ylabel('Manufacturer')\n",
    "plt.show()\n",
    "#Interpretation:\n",
    "#I has displayed the horizontal bar chart based on 'Make' after sorting the top 5 body type using groupby count() function."
   ]
  },
  {
   "cell_type": "code",
   "execution_count": 25,
   "id": "777cc1bd-a692-4e2c-8d66-f56e095e8a82",
   "metadata": {
    "scrolled": true
   },
   "outputs": [
    {
     "data": {
      "text/html": [
       "<div>\n",
       "<style scoped>\n",
       "    .dataframe tbody tr th:only-of-type {\n",
       "        vertical-align: middle;\n",
       "    }\n",
       "\n",
       "    .dataframe tbody tr th {\n",
       "        vertical-align: top;\n",
       "    }\n",
       "\n",
       "    .dataframe thead th {\n",
       "        text-align: right;\n",
       "    }\n",
       "</style>\n",
       "<table border=\"1\" class=\"dataframe\">\n",
       "  <thead>\n",
       "    <tr style=\"text-align: right;\">\n",
       "      <th></th>\n",
       "      <th>S. No.</th>\n",
       "      <th>Make</th>\n",
       "      <th>Model</th>\n",
       "      <th>Variant</th>\n",
       "      <th>Displacement</th>\n",
       "      <th>Cylinders</th>\n",
       "      <th>Valves_Per_Cylinder</th>\n",
       "      <th>Fuel_Tank_Capacity_litre</th>\n",
       "      <th>Fuel_Type</th>\n",
       "      <th>Height_mm</th>\n",
       "      <th>...</th>\n",
       "      <th>Central_Locking</th>\n",
       "      <th>Child_Safety_Locks</th>\n",
       "      <th>Hill_Assist</th>\n",
       "      <th>Drive_Modes</th>\n",
       "      <th>High_Speed_Alert_System</th>\n",
       "      <th>ABS_(Anti-lock_Braking_System)</th>\n",
       "      <th>Gross_Vehicle_Weight</th>\n",
       "      <th>Airbags</th>\n",
       "      <th>Door_Ajar_Warning</th>\n",
       "      <th>Fasten_Seat_Belt_Warning</th>\n",
       "    </tr>\n",
       "  </thead>\n",
       "  <tbody>\n",
       "    <tr>\n",
       "      <th>275</th>\n",
       "      <td>275</td>\n",
       "      <td>Mini</td>\n",
       "      <td>John Cooper Works</td>\n",
       "      <td>Hatch</td>\n",
       "      <td>1998.0</td>\n",
       "      <td>4.0</td>\n",
       "      <td>4.0</td>\n",
       "      <td>44.0</td>\n",
       "      <td>Petrol</td>\n",
       "      <td>1414.0</td>\n",
       "      <td>...</td>\n",
       "      <td>Yes</td>\n",
       "      <td>Yes</td>\n",
       "      <td>Yes</td>\n",
       "      <td>Eco, Sport</td>\n",
       "      <td>Yes</td>\n",
       "      <td>Yes</td>\n",
       "      <td>1710 kg</td>\n",
       "      <td>Driver frontal airbag, Front passenger frontal...</td>\n",
       "      <td>Yes</td>\n",
       "      <td>Yes</td>\n",
       "    </tr>\n",
       "    <tr>\n",
       "      <th>807</th>\n",
       "      <td>807</td>\n",
       "      <td>Bmw</td>\n",
       "      <td>Z4 Roadster</td>\n",
       "      <td>Sdrive 20I</td>\n",
       "      <td>1998.0</td>\n",
       "      <td>4.0</td>\n",
       "      <td>4.0</td>\n",
       "      <td>52.0</td>\n",
       "      <td>Petrol</td>\n",
       "      <td>1304.0</td>\n",
       "      <td>...</td>\n",
       "      <td>Yes</td>\n",
       "      <td>Yes</td>\n",
       "      <td>Yes</td>\n",
       "      <td>Eco, Sport, Normal, Comfort</td>\n",
       "      <td>Yes</td>\n",
       "      <td>Yes</td>\n",
       "      <td>1740 kg</td>\n",
       "      <td>Curtain airbags, Driver frontal airbag, Front ...</td>\n",
       "      <td>Yes</td>\n",
       "      <td>Yes</td>\n",
       "    </tr>\n",
       "    <tr>\n",
       "      <th>808</th>\n",
       "      <td>808</td>\n",
       "      <td>Bmw</td>\n",
       "      <td>Z4 Roadster</td>\n",
       "      <td>M 40I</td>\n",
       "      <td>2998.0</td>\n",
       "      <td>6.0</td>\n",
       "      <td>4.0</td>\n",
       "      <td>52.0</td>\n",
       "      <td>Petrol</td>\n",
       "      <td>1304.0</td>\n",
       "      <td>...</td>\n",
       "      <td>Yes</td>\n",
       "      <td>Yes</td>\n",
       "      <td>Yes</td>\n",
       "      <td>Normal, Comfort, Eco, Sport</td>\n",
       "      <td>Yes</td>\n",
       "      <td>Yes</td>\n",
       "      <td>1860 kg</td>\n",
       "      <td>Driver frontal airbag, Front passenger frontal...</td>\n",
       "      <td>Yes</td>\n",
       "      <td>Yes</td>\n",
       "    </tr>\n",
       "    <tr>\n",
       "      <th>332</th>\n",
       "      <td>332</td>\n",
       "      <td>Maserati</td>\n",
       "      <td>Quattroporte</td>\n",
       "      <td>Granlusso</td>\n",
       "      <td>2987.0</td>\n",
       "      <td>6.0</td>\n",
       "      <td>4.0</td>\n",
       "      <td>70.0</td>\n",
       "      <td>Diesel</td>\n",
       "      <td>1481.0</td>\n",
       "      <td>...</td>\n",
       "      <td>Yes</td>\n",
       "      <td>Yes</td>\n",
       "      <td>Yes</td>\n",
       "      <td>Normal</td>\n",
       "      <td>Yes</td>\n",
       "      <td>Yes</td>\n",
       "      <td>2510 kg</td>\n",
       "      <td>Curtain airbags, Driver frontal airbag, Front ...</td>\n",
       "      <td>Yes</td>\n",
       "      <td>Yes</td>\n",
       "    </tr>\n",
       "    <tr>\n",
       "      <th>356</th>\n",
       "      <td>356</td>\n",
       "      <td>Bugatti</td>\n",
       "      <td>Chiron</td>\n",
       "      <td>Sport</td>\n",
       "      <td>7993.0</td>\n",
       "      <td>16.0</td>\n",
       "      <td>4.0</td>\n",
       "      <td>46.0</td>\n",
       "      <td>Petrol</td>\n",
       "      <td>1212.0</td>\n",
       "      <td>...</td>\n",
       "      <td>Yes</td>\n",
       "      <td>Yes</td>\n",
       "      <td>Yes</td>\n",
       "      <td>Normal, Sport</td>\n",
       "      <td>Yes</td>\n",
       "      <td>Yes</td>\n",
       "      <td>2510 kg</td>\n",
       "      <td>Driver frontal airbag, Front passenger frontal...</td>\n",
       "      <td>Yes</td>\n",
       "      <td>Yes</td>\n",
       "    </tr>\n",
       "  </tbody>\n",
       "</table>\n",
       "<p>5 rows × 30 columns</p>\n",
       "</div>"
      ],
      "text/plain": [
       "     S. No.      Make              Model     Variant  Displacement  Cylinders  \\\n",
       "275     275      Mini  John Cooper Works       Hatch        1998.0        4.0   \n",
       "807     807       Bmw        Z4 Roadster  Sdrive 20I        1998.0        4.0   \n",
       "808     808       Bmw        Z4 Roadster       M 40I        2998.0        6.0   \n",
       "332     332  Maserati       Quattroporte   Granlusso        2987.0        6.0   \n",
       "356     356   Bugatti             Chiron       Sport        7993.0       16.0   \n",
       "\n",
       "     Valves_Per_Cylinder  Fuel_Tank_Capacity_litre Fuel_Type  Height_mm  ...  \\\n",
       "275                  4.0                      44.0    Petrol     1414.0  ...   \n",
       "807                  4.0                      52.0    Petrol     1304.0  ...   \n",
       "808                  4.0                      52.0    Petrol     1304.0  ...   \n",
       "332                  4.0                      70.0    Diesel     1481.0  ...   \n",
       "356                  4.0                      46.0    Petrol     1212.0  ...   \n",
       "\n",
       "     Central_Locking  Child_Safety_Locks Hill_Assist  \\\n",
       "275              Yes                 Yes         Yes   \n",
       "807              Yes                 Yes         Yes   \n",
       "808              Yes                 Yes         Yes   \n",
       "332              Yes                 Yes         Yes   \n",
       "356              Yes                 Yes         Yes   \n",
       "\n",
       "                     Drive_Modes  High_Speed_Alert_System  \\\n",
       "275                   Eco, Sport                      Yes   \n",
       "807  Eco, Sport, Normal, Comfort                      Yes   \n",
       "808  Normal, Comfort, Eco, Sport                      Yes   \n",
       "332                       Normal                      Yes   \n",
       "356                Normal, Sport                      Yes   \n",
       "\n",
       "     ABS_(Anti-lock_Braking_System) Gross_Vehicle_Weight  \\\n",
       "275                             Yes              1710 kg   \n",
       "807                             Yes              1740 kg   \n",
       "808                             Yes              1860 kg   \n",
       "332                             Yes              2510 kg   \n",
       "356                             Yes              2510 kg   \n",
       "\n",
       "                                               Airbags  Door_Ajar_Warning  \\\n",
       "275  Driver frontal airbag, Front passenger frontal...                Yes   \n",
       "807  Curtain airbags, Driver frontal airbag, Front ...                Yes   \n",
       "808  Driver frontal airbag, Front passenger frontal...                Yes   \n",
       "332  Curtain airbags, Driver frontal airbag, Front ...                Yes   \n",
       "356  Driver frontal airbag, Front passenger frontal...                Yes   \n",
       "\n",
       "     Fasten_Seat_Belt_Warning  \n",
       "275                       Yes  \n",
       "807                       Yes  \n",
       "808                       Yes  \n",
       "332                       Yes  \n",
       "356                       Yes  \n",
       "\n",
       "[5 rows x 30 columns]"
      ]
     },
     "execution_count": 25,
     "metadata": {},
     "output_type": "execute_result"
    }
   ],
   "source": [
    "#Task-1  Display the top 5 body type using horizontal bar chart:\n",
    "sort_car=car.sort_values(by='Body_Type',ascending=False)[:5]\n",
    "sort_car"
   ]
  },
  {
   "cell_type": "code",
   "execution_count": 27,
   "id": "410d3af8-5665-40d6-9874-a9db520df7da",
   "metadata": {},
   "outputs": [
    {
     "data": {
      "image/png": "[encoded data removed]",
      "text/plain": [
       "<Figure size 640x480 with 1 Axes>"
      ]
     },
     "metadata": {},
     "output_type": "display_data"
    }
   ],
   "source": [
    "plt.barh(sort_car['Make'],sort_car['Body_Type'],color='lightgreen')\n",
    "plt.title('Make wise body type with top 5')\n",
    "plt.xlabel('Body type')\n",
    "plt.ylabel('Manufacturer')\n",
    "plt.show()\n",
    "\n",
    "#Interpretation:\n",
    "#I has displayed the horizontal bar chart based on 'Make' after sorting the top 5 body type."
   ]
  },
  {
   "cell_type": "code",
   "execution_count": 29,
   "id": "2b94f0ce-c2eb-430b-8186-d9c16a2adbb9",
   "metadata": {},
   "outputs": [
    {
     "data": {
      "text/plain": [
       "Drive_Modes                  Model                \n",
       "Comfort, Eco, Sport          Discovery Sport          2\n",
       "                             Kona Electric            1\n",
       "                             Xc40                     1\n",
       "Comfort, Eco, Sport, Normal  A6                       2\n",
       "                             Octavia                  1\n",
       "                                                     ..\n",
       "Sport                        Mercedes-Benz C-Class    6\n",
       "                             Tiago                    2\n",
       "                             X7                       2\n",
       "Sport, Normal, Comfort       Mercedes-Benz Gle        1\n",
       "Sport, Normal, Eco           Zs Ev                    1\n",
       "Name: Drive_Modes, Length: 286, dtype: int64"
      ]
     },
     "execution_count": 29,
     "metadata": {},
     "output_type": "execute_result"
    }
   ],
   "source": [
    "#Task-2 List the details of car based on the driving conditions and how many cars have all the above mentioned features:\n",
    "car.groupby(['Drive_Modes','Model'])['Drive_Modes'].count()\n",
    "#Interpretation:\n",
    "#Under this task I has used groupby to count the Drive modes along with Model of car."
   ]
  },
  {
   "cell_type": "code",
   "execution_count": 31,
   "id": "5e0e7023-7f60-4545-9033-818253027bc9",
   "metadata": {},
   "outputs": [
    {
     "data": {
      "text/plain": [
       "Make\n",
       "Maruti Suzuki    149\n",
       "Hyundai          130\n",
       "Mahindra         119\n",
       "Tata             100\n",
       "Toyota            82\n",
       "Not available     75\n",
       "Honda             64\n",
       "Skoda             43\n",
       "Ford              43\n",
       "Bmw               37\n",
       "Name: City_Mileage_km_litre, dtype: int64"
      ]
     },
     "execution_count": 31,
     "metadata": {},
     "output_type": "execute_result"
    }
   ],
   "source": [
    "#Fuel Efficiency Analysis\n",
    "#Task-3 Top 10 car manufacturer based on city mileage:\n",
    "\n",
    "fetched=car.groupby('Make')['City_Mileage_km_litre'].count()\n",
    "sorted=fetched.sort_values(ascending=False)[:10]\n",
    "sorted\n",
    "\n",
    "#Interpretation:\n",
    "#Under this task I used groupby to fetch the record and sorted into decending and then taken top 10 record."
   ]
  },
  {
   "cell_type": "code",
   "execution_count": 33,
   "id": "527f7316-1262-41f2-afca-60070e67b2e3",
   "metadata": {},
   "outputs": [
    {
     "data": {
      "image/png": "[encoded data removed]",
      "text/plain": [
       "<Figure size 640x480 with 1 Axes>"
      ]
     },
     "metadata": {},
     "output_type": "display_data"
    }
   ],
   "source": [
    "plt.barh(sorted.index,sorted.values,color='pink')\n",
    "plt.title('Top 10 cars based on city mileage')\n",
    "plt.xlabel('City mileage')\n",
    "plt.ylabel('Manufacturer')\n",
    "plt.show()\n",
    "#I has displayed using horizontal bar chart."
   ]
  },
  {
   "cell_type": "code",
   "execution_count": 35,
   "id": "93834d80-8730-4208-a1ca-542214f0cc51",
   "metadata": {},
   "outputs": [
    {
     "name": "stdout",
     "output_type": "stream",
     "text": [
      "City_Mileage_km_litre outliers: 101.81653472822339\n"
     ]
    }
   ],
   "source": [
    "#finding chances of outliers using kurtosis:\n",
    "from scipy.stats import kurtosis\n",
    "print('City_Mileage_km_litre outliers:',kurtosis(car['City_Mileage_km_litre']))\n",
    "\n",
    "#Under this city_mileage there is no outliers."
   ]
  },
  {
   "cell_type": "code",
   "execution_count": 37,
   "id": "823506e4-299f-4b32-a997-c5378ad73a19",
   "metadata": {},
   "outputs": [
    {
     "data": {
      "image/png": "[encoded data removed]",
      "text/plain": [
       "<Figure size 640x480 with 1 Axes>"
      ]
     },
     "metadata": {},
     "output_type": "display_data"
    }
   ],
   "source": [
    "#Finding the outlier using boxplot:\n",
    "make1=car[car['Make']=='Maruti Suzuki']\n",
    "make2=car[car['Make']=='Hyundai']\n",
    "make3=car[car['Make']=='Mahindra']\n",
    "make4=car[car['Make']=='Tata']\n",
    "make5=car[car['Make']=='Toyota']\n",
    "make6=car[car['Make']=='Not available']\n",
    "make7=car[car['Make']=='Honda']\n",
    "make8=car[car['Make']=='Skoda']\n",
    "make9=car[car['Make']=='Ford']\n",
    "make10=car[car['Make']=='Bmw']\n",
    "plt.boxplot([make1['City_Mileage_km_litre'],make2['City_Mileage_km_litre'],make3['City_Mileage_km_litre'],make4['City_Mileage_km_litre'],make5['City_Mileage_km_litre'],make6['City_Mileage_km_litre'],make7['City_Mileage_km_litre'],make8['City_Mileage_km_litre'],make9['City_Mileage_km_litre'],make10['City_Mileage_km_litre']],labels=['Maru','Hyun','Mahi','Tata','Toy','Not','Honda','Skoda','Ford','Bmw']) \n",
    "plt.show()\n",
    "\n",
    "#Interpretation:\n",
    "# Yes,under this task there is an outlier in the Hyundai,Mahindra,Toyota,Honda,Ford and Bmw manufacturer based on city mileage.\n",
    "#The reason for the outliers is because of some errors in the dataset."
   ]
  },
  {
   "cell_type": "code",
   "execution_count": 41,
   "id": "01f7b1eb-3956-44d1-8e31-331f69e5aa72",
   "metadata": {},
   "outputs": [
    {
     "data": {
      "text/plain": [
       "Make\n",
       "Renault            19.384444\n",
       "Mahindra           18.973866\n",
       "Maruti Suzuki      18.854430\n",
       "Datsun             18.684000\n",
       "Tata               17.182900\n",
       "Lexus              16.434000\n",
       "Honda              16.118906\n",
       "Fiat               16.056087\n",
       "Hyundai            16.017000\n",
       "Volkswagen         15.730000\n",
       "Nissan             15.308966\n",
       "Maruti Suzuki R    15.290000\n",
       "Mg                 15.290000\n",
       "Kia                15.290000\n",
       "Bugatti            15.290000\n",
       "Bajaj              15.290000\n",
       "Land Rover         15.290000\n",
       "Jeep               15.102143\n",
       "Ford               14.751628\n",
       "Bmw                14.596757\n",
       "Name: City_Mileage_km_litre, dtype: float64"
      ]
     },
     "execution_count": 41,
     "metadata": {},
     "output_type": "execute_result"
    }
   ],
   "source": [
    "#Task-4  Identify the top 20 car manufacturer based on city mileage and display using horizontal bar chart:\n",
    "non_electric=car.groupby('Make')['City_Mileage_km_litre'].mean()\n",
    "sort_electric=non_electric.sort_values(ascending=False)[:20]\n",
    "sort_electric"
   ]
  },
  {
   "cell_type": "code",
   "execution_count": 43,
   "id": "e9799b5d-9aee-4c27-a9c2-46eba5ca6cef",
   "metadata": {},
   "outputs": [
    {
     "data": {
      "image/png": "[encoded data removed]",
      "text/plain": [
       "<Figure size 640x480 with 1 Axes>"
      ]
     },
     "metadata": {},
     "output_type": "display_data"
    }
   ],
   "source": [
    "plt.barh(sort_electric.index,sort_electric.values,color='pink')\n",
    "plt.title('Top 20 cars based on city mileage')\n",
    "plt.xlabel('City mileage')\n",
    "plt.ylabel('Manufacturer')\n",
    "plt.show()\n",
    "\n",
    "#Interpretation:\n",
    "#Under this task I used horizontal bar chart to visualize the sorted details."
   ]
  },
  {
   "cell_type": "code",
   "execution_count": 45,
   "id": "3a1d890b-0937-4f36-8027-98cbf82ac1b0",
   "metadata": {
    "scrolled": true
   },
   "outputs": [
    {
     "data": {
      "text/html": [
       "<div>\n",
       "<style scoped>\n",
       "    .dataframe tbody tr th:only-of-type {\n",
       "        vertical-align: middle;\n",
       "    }\n",
       "\n",
       "    .dataframe tbody tr th {\n",
       "        vertical-align: top;\n",
       "    }\n",
       "\n",
       "    .dataframe thead th {\n",
       "        text-align: right;\n",
       "    }\n",
       "</style>\n",
       "<table border=\"1\" class=\"dataframe\">\n",
       "  <thead>\n",
       "    <tr style=\"text-align: right;\">\n",
       "      <th></th>\n",
       "      <th>Make</th>\n",
       "      <th>City_Mileage_km_litre</th>\n",
       "    </tr>\n",
       "  </thead>\n",
       "  <tbody>\n",
       "    <tr>\n",
       "      <th>12</th>\n",
       "      <td>Renault</td>\n",
       "      <td>25.17</td>\n",
       "    </tr>\n",
       "    <tr>\n",
       "      <th>13</th>\n",
       "      <td>Renault</td>\n",
       "      <td>25.17</td>\n",
       "    </tr>\n",
       "    <tr>\n",
       "      <th>14</th>\n",
       "      <td>Renault</td>\n",
       "      <td>25.17</td>\n",
       "    </tr>\n",
       "    <tr>\n",
       "      <th>15</th>\n",
       "      <td>Renault</td>\n",
       "      <td>25.17</td>\n",
       "    </tr>\n",
       "    <tr>\n",
       "      <th>16</th>\n",
       "      <td>Renault</td>\n",
       "      <td>25.17</td>\n",
       "    </tr>\n",
       "    <tr>\n",
       "      <th>17</th>\n",
       "      <td>Renault</td>\n",
       "      <td>25.17</td>\n",
       "    </tr>\n",
       "    <tr>\n",
       "      <th>18</th>\n",
       "      <td>Renault</td>\n",
       "      <td>25.17</td>\n",
       "    </tr>\n",
       "    <tr>\n",
       "      <th>19</th>\n",
       "      <td>Renault</td>\n",
       "      <td>25.17</td>\n",
       "    </tr>\n",
       "    <tr>\n",
       "      <th>20</th>\n",
       "      <td>Renault</td>\n",
       "      <td>25.17</td>\n",
       "    </tr>\n",
       "    <tr>\n",
       "      <th>21</th>\n",
       "      <td>Renault</td>\n",
       "      <td>25.17</td>\n",
       "    </tr>\n",
       "    <tr>\n",
       "      <th>22</th>\n",
       "      <td>Renault</td>\n",
       "      <td>25.17</td>\n",
       "    </tr>\n",
       "    <tr>\n",
       "      <th>23</th>\n",
       "      <td>Renault</td>\n",
       "      <td>25.17</td>\n",
       "    </tr>\n",
       "    <tr>\n",
       "      <th>77</th>\n",
       "      <td>Renault</td>\n",
       "      <td>15.29</td>\n",
       "    </tr>\n",
       "    <tr>\n",
       "      <th>78</th>\n",
       "      <td>Renault</td>\n",
       "      <td>15.29</td>\n",
       "    </tr>\n",
       "    <tr>\n",
       "      <th>79</th>\n",
       "      <td>Renault</td>\n",
       "      <td>15.29</td>\n",
       "    </tr>\n",
       "    <tr>\n",
       "      <th>80</th>\n",
       "      <td>Renault</td>\n",
       "      <td>15.29</td>\n",
       "    </tr>\n",
       "    <tr>\n",
       "      <th>563</th>\n",
       "      <td>Renault</td>\n",
       "      <td>10.20</td>\n",
       "    </tr>\n",
       "    <tr>\n",
       "      <th>564</th>\n",
       "      <td>Renault</td>\n",
       "      <td>10.00</td>\n",
       "    </tr>\n",
       "    <tr>\n",
       "      <th>565</th>\n",
       "      <td>Renault</td>\n",
       "      <td>10.00</td>\n",
       "    </tr>\n",
       "    <tr>\n",
       "      <th>566</th>\n",
       "      <td>Renault</td>\n",
       "      <td>16.00</td>\n",
       "    </tr>\n",
       "    <tr>\n",
       "      <th>567</th>\n",
       "      <td>Renault</td>\n",
       "      <td>16.00</td>\n",
       "    </tr>\n",
       "    <tr>\n",
       "      <th>568</th>\n",
       "      <td>Renault</td>\n",
       "      <td>16.00</td>\n",
       "    </tr>\n",
       "    <tr>\n",
       "      <th>569</th>\n",
       "      <td>Renault</td>\n",
       "      <td>16.00</td>\n",
       "    </tr>\n",
       "    <tr>\n",
       "      <th>570</th>\n",
       "      <td>Renault</td>\n",
       "      <td>16.00</td>\n",
       "    </tr>\n",
       "    <tr>\n",
       "      <th>571</th>\n",
       "      <td>Renault</td>\n",
       "      <td>16.00</td>\n",
       "    </tr>\n",
       "    <tr>\n",
       "      <th>596</th>\n",
       "      <td>Renault</td>\n",
       "      <td>21.04</td>\n",
       "    </tr>\n",
       "    <tr>\n",
       "      <th>597</th>\n",
       "      <td>Renault</td>\n",
       "      <td>21.04</td>\n",
       "    </tr>\n",
       "    <tr>\n",
       "      <th>598</th>\n",
       "      <td>Renault</td>\n",
       "      <td>21.04</td>\n",
       "    </tr>\n",
       "    <tr>\n",
       "      <th>599</th>\n",
       "      <td>Renault</td>\n",
       "      <td>21.04</td>\n",
       "    </tr>\n",
       "    <tr>\n",
       "      <th>600</th>\n",
       "      <td>Renault</td>\n",
       "      <td>21.04</td>\n",
       "    </tr>\n",
       "    <tr>\n",
       "      <th>601</th>\n",
       "      <td>Renault</td>\n",
       "      <td>21.04</td>\n",
       "    </tr>\n",
       "    <tr>\n",
       "      <th>602</th>\n",
       "      <td>Renault</td>\n",
       "      <td>21.04</td>\n",
       "    </tr>\n",
       "    <tr>\n",
       "      <th>960</th>\n",
       "      <td>Renault</td>\n",
       "      <td>15.29</td>\n",
       "    </tr>\n",
       "    <tr>\n",
       "      <th>961</th>\n",
       "      <td>Renault</td>\n",
       "      <td>15.29</td>\n",
       "    </tr>\n",
       "    <tr>\n",
       "      <th>962</th>\n",
       "      <td>Renault</td>\n",
       "      <td>15.29</td>\n",
       "    </tr>\n",
       "    <tr>\n",
       "      <th>963</th>\n",
       "      <td>Renault</td>\n",
       "      <td>15.29</td>\n",
       "    </tr>\n",
       "  </tbody>\n",
       "</table>\n",
       "</div>"
      ],
      "text/plain": [
       "        Make  City_Mileage_km_litre\n",
       "12   Renault                  25.17\n",
       "13   Renault                  25.17\n",
       "14   Renault                  25.17\n",
       "15   Renault                  25.17\n",
       "16   Renault                  25.17\n",
       "17   Renault                  25.17\n",
       "18   Renault                  25.17\n",
       "19   Renault                  25.17\n",
       "20   Renault                  25.17\n",
       "21   Renault                  25.17\n",
       "22   Renault                  25.17\n",
       "23   Renault                  25.17\n",
       "77   Renault                  15.29\n",
       "78   Renault                  15.29\n",
       "79   Renault                  15.29\n",
       "80   Renault                  15.29\n",
       "563  Renault                  10.20\n",
       "564  Renault                  10.00\n",
       "565  Renault                  10.00\n",
       "566  Renault                  16.00\n",
       "567  Renault                  16.00\n",
       "568  Renault                  16.00\n",
       "569  Renault                  16.00\n",
       "570  Renault                  16.00\n",
       "571  Renault                  16.00\n",
       "596  Renault                  21.04\n",
       "597  Renault                  21.04\n",
       "598  Renault                  21.04\n",
       "599  Renault                  21.04\n",
       "600  Renault                  21.04\n",
       "601  Renault                  21.04\n",
       "602  Renault                  21.04\n",
       "960  Renault                  15.29\n",
       "961  Renault                  15.29\n",
       "962  Renault                  15.29\n",
       "963  Renault                  15.29"
      ]
     },
     "execution_count": 45,
     "metadata": {},
     "output_type": "execute_result"
    }
   ],
   "source": [
    "sort=car[car.Make=='Renault'][['Make','City_Mileage_km_litre']]\n",
    "sort"
   ]
  },
  {
   "cell_type": "code",
   "execution_count": 55,
   "id": "c19da570-7264-4a56-b3a5-c751b6549dce",
   "metadata": {},
   "outputs": [
    {
     "name": "stdout",
     "output_type": "stream",
     "text": [
      "-------------------------------------------------------------------------------------------\n",
      "-------------------------------------------------------------------------------------------\n",
      "-------------------------------------------------------------------------------------------\n",
      "Renault:\n",
      "City_Mileage_km_litre    19.384444\n",
      "Name: Renault, dtype: float64\n",
      "City_Mileage_km_litre    21.04\n",
      "Name: Renault, dtype: float64\n",
      "Highway_Mileage_km_litre    17.315\n",
      "Name: Renault, dtype: float64\n",
      "Highway_Mileage_km_litre    17.19\n",
      "Name: Renault, dtype: float64\n",
      "-----------------------------------\n",
      "Hyundai:\n",
      "City_Mileage_km_litre    16.017\n",
      "Name: Hyundai, dtype: float64\n",
      "City_Mileage_km_litre    15.29\n",
      "Name: Hyundai, dtype: float64\n",
      "Highway_Mileage_km_litre    17.538231\n",
      "Name: Hyundai, dtype: float64\n",
      "Highway_Mileage_km_litre    17.19\n",
      "Name: Hyundai, dtype: float64\n",
      "-----------------------------------\n",
      "Mahindra:\n",
      "City_Mileage_km_litre    18.973866\n",
      "Name: Mahindra, dtype: float64\n",
      "City_Mileage_km_litre    15.5\n",
      "Name: Mahindra, dtype: float64\n",
      "Highway_Mileage_km_litre    17.645126\n",
      "Name: Mahindra, dtype: float64\n",
      "Highway_Mileage_km_litre    17.19\n",
      "Name: Mahindra, dtype: float64\n",
      "-----------------------------------\n",
      "Skoda:\n",
      "City_Mileage_km_litre    14.357442\n",
      "Name: Skoda, dtype: float64\n",
      "City_Mileage_km_litre    15.1\n",
      "Name: Skoda, dtype: float64\n",
      "Highway_Mileage_km_litre    17.252093\n",
      "Name: Skoda, dtype: float64\n",
      "Highway_Mileage_km_litre    17.19\n",
      "Name: Skoda, dtype: float64\n"
     ]
    }
   ],
   "source": [
    "#Task-5 Display the car mileage using pivot table \n",
    "pvt=pd.pivot_table(car,index=['Make'],values=['City_Mileage_km_litre'],aggfunc='mean')\n",
    "result_Renault_mean=pvt.loc['Renault']\n",
    "pvt=pd.pivot_table(car,index=['Make'],values=['City_Mileage_km_litre'],aggfunc='median')\n",
    "result1_Renault_median=pvt.loc['Renault']\n",
    "\n",
    "pvt=pd.pivot_table(car,index=['Make'],values=['Highway_Mileage_km_litre'],aggfunc='mean')\n",
    "result_high_renault_mean=pvt.loc['Renault']\n",
    "pvt=pd.pivot_table(car,index=['Make'],values=['Highway_Mileage_km_litre'],aggfunc='median')\n",
    "result_renault_2=pvt.loc['Renault']\n",
    "\n",
    "print('-------------------------------------------------------------------------------------------')\n",
    "\n",
    "pvt=pd.pivot_table(car,index=['Make'],values=['City_Mileage_km_litre'],aggfunc='mean')\n",
    "result_hyundai_mean=pvt.loc['Hyundai']\n",
    "pvt=pd.pivot_table(car,index=['Make'],values=['City_Mileage_km_litre'],aggfunc='median')\n",
    "result1_hyundai_median=pvt.loc['Hyundai']\n",
    "\n",
    "pvt=pd.pivot_table(car,index=['Make'],values=['Highway_Mileage_km_litre'],aggfunc='mean')\n",
    "result_high_hyundai_mean=pvt.loc['Hyundai']\n",
    "pvt=pd.pivot_table(car,index=['Make'],values=['Highway_Mileage_km_litre'],aggfunc='median')\n",
    "result_hyundai_2=pvt.loc['Hyundai']\n",
    "\n",
    "print('-------------------------------------------------------------------------------------------')\n",
    "\n",
    "pvt=pd.pivot_table(car,index=['Make'],values=['City_Mileage_km_litre'],aggfunc='mean')\n",
    "result_mahindra_mean=pvt.loc['Mahindra']\n",
    "pvt=pd.pivot_table(car,index=['Make'],values=['City_Mileage_km_litre'],aggfunc='median')\n",
    "result1_mahindra_median=pvt.loc['Mahindra']\n",
    "\n",
    "pvt=pd.pivot_table(car,index=['Make'],values=['Highway_Mileage_km_litre'],aggfunc='mean')\n",
    "result_high_mahindra_mean=pvt.loc['Mahindra']\n",
    "pvt=pd.pivot_table(car,index=['Make'],values=['Highway_Mileage_km_litre'],aggfunc='median')\n",
    "result_mahindra_2=pvt.loc['Mahindra']\n",
    "\n",
    "print('-------------------------------------------------------------------------------------------')\n",
    "\n",
    "pvt=pd.pivot_table(car,index=['Make'],values=['City_Mileage_km_litre'],aggfunc='mean')\n",
    "result_skoda_mean=pvt.loc['Skoda']\n",
    "pvt=pd.pivot_table(car,index=['Make'],values=['City_Mileage_km_litre'],aggfunc='median')\n",
    "result1_skoda_median=pvt.loc['Skoda']\n",
    "\n",
    "pvt=pd.pivot_table(car,index=['Make'],values=['Highway_Mileage_km_litre'],aggfunc='mean')\n",
    "result_high_skoda_mean=pvt.loc['Skoda']\n",
    "pvt=pd.pivot_table(car,index=['Make'],values=['Highway_Mileage_km_litre'],aggfunc='median')\n",
    "result_skoda_2=pvt.loc['Skoda']\n",
    "\n",
    "print('Renault:')\n",
    "print(result_Renault_mean)\n",
    "print(result1_Renault_median)\n",
    "print(result_high_renault_mean)\n",
    "print(result_renault_2)\n",
    "print('-----------------------------------')\n",
    "print('Hyundai:')\n",
    "print(result_hyundai_mean)\n",
    "print(result1_hyundai_median)\n",
    "print(result_high_hyundai_mean)\n",
    "print(result_hyundai_2)\n",
    "print('-----------------------------------')\n",
    "print('Mahindra:')\n",
    "print(result_mahindra_mean)\n",
    "print(result1_mahindra_median)\n",
    "print(result_high_mahindra_mean)\n",
    "print(result_mahindra_2)\n",
    "print('-----------------------------------')\n",
    "print('Skoda:')\n",
    "print(result_skoda_mean)\n",
    "print(result1_skoda_median)\n",
    "print(result_high_skoda_mean)\n",
    "print(result_skoda_2)\n",
    "\n",
    "\n",
    "#Interpretation:\n",
    "#Under this task I has used pivot table to display the 'Make' and city mileage,highway mileage using aggregate function."
   ]
  },
  {
   "cell_type": "code",
   "execution_count": 91,
   "id": "d0fbcc86-cbe6-45cb-8d7b-b8aef6e68f81",
   "metadata": {
    "scrolled": true
   },
   "outputs": [
    {
     "data": {
      "image/png": "[encoded data removed]",
      "text/plain": [
       "<Figure size 640x480 with 1 Axes>"
      ]
     },
     "metadata": {},
     "output_type": "display_data"
    }
   ],
   "source": [
    "#Task-6  Visualize using staked column chart:\n",
    "result_Renault_mean.plot(x='Renault',kind='bar',color='pink',stacked=False)\n",
    "plt.ylabel('mileage')\n",
    "plt.xticks(rotation=0)\n",
    "plt.show()\n",
    "\n",
    "#Interpretation\n",
    "#Under this task I has displayed the staked column chart.\n",
    "#Displayed the city mileage using mean."
   ]
  },
  {
   "cell_type": "code",
   "execution_count": 89,
   "id": "9648e9ac-bff6-442a-b037-d8996922faf4",
   "metadata": {},
   "outputs": [
    {
     "data": {
      "image/png": "[encoded data removed]",
      "text/plain": [
       "<Figure size 640x480 with 1 Axes>"
      ]
     },
     "metadata": {},
     "output_type": "display_data"
    }
   ],
   "source": [
    "result1_Renault_median.plot(x='Renault',kind='bar',color='pink',stacked=False)\n",
    "plt.ylabel('mileage')\n",
    "plt.xticks(rotation=0)\n",
    "plt.show()\n",
    "\n",
    "#Displayed the city mileage using median."
   ]
  },
  {
   "cell_type": "code",
   "execution_count": 87,
   "id": "fae4163f-36d1-4d55-a256-9f83c5b507e4",
   "metadata": {},
   "outputs": [
    {
     "data": {
      "image/png": "[encoded data removed]",
      "text/plain": [
       "<Figure size 640x480 with 1 Axes>"
      ]
     },
     "metadata": {},
     "output_type": "display_data"
    }
   ],
   "source": [
    "result_hyundai_mean.plot(x='Hyundai',kind='bar',color='lightgreen',stacked=False)\n",
    "plt.ylabel('mileage')\n",
    "plt.xticks(rotation=0)\n",
    "plt.show()\n",
    "\n",
    "#Interpretation\n",
    "#Displayed the city mileage using mean."
   ]
  },
  {
   "cell_type": "code",
   "execution_count": 85,
   "id": "f373f67e-2916-499f-be02-06b59facc441",
   "metadata": {},
   "outputs": [
    {
     "data": {
      "image/png": "[encoded data removed]",
      "text/plain": [
       "<Figure size 640x480 with 1 Axes>"
      ]
     },
     "metadata": {},
     "output_type": "display_data"
    }
   ],
   "source": [
    "result1_hyundai_median.plot(x='Hyundai',kind='bar',color='lightgreen',stacked=False)\n",
    "plt.ylabel('mileage')\n",
    "plt.xticks(rotation=0)\n",
    "plt.show()\n",
    "#Displayed the city mileage using median."
   ]
  },
  {
   "cell_type": "code",
   "execution_count": 83,
   "id": "963f8e29-96fc-4486-be38-2a83199dce64",
   "metadata": {},
   "outputs": [
    {
     "data": {
      "image/png": "[encoded data removed]",
      "text/plain": [
       "<Figure size 640x480 with 1 Axes>"
      ]
     },
     "metadata": {},
     "output_type": "display_data"
    }
   ],
   "source": [
    "result_mahindra_mean.plot(x='Mahindra',kind='bar',color='lavender',stacked=False)\n",
    "plt.ylabel('mileage')\n",
    "plt.xticks(rotation=0)\n",
    "plt.show()\n",
    "\n",
    "#Interpretation\n",
    "#Displayed the city mileage using mean."
   ]
  },
  {
   "cell_type": "code",
   "execution_count": 81,
   "id": "411970d2-782b-4085-8923-98b33a576ed6",
   "metadata": {},
   "outputs": [
    {
     "data": {
      "image/png": "[encoded data removed]",
      "text/plain": [
       "<Figure size 640x480 with 1 Axes>"
      ]
     },
     "metadata": {},
     "output_type": "display_data"
    }
   ],
   "source": [
    "result1_mahindra_median.plot(x='Mahindra',kind='bar',color='lavender',stacked=False)\n",
    "plt.ylabel('mileage')\n",
    "plt.xticks(rotation=0)\n",
    "plt.show()\n",
    "#Displayed the city mileage using median."
   ]
  },
  {
   "cell_type": "code",
   "execution_count": 79,
   "id": "682868a8-7811-4909-9dce-14e5cc4539a8",
   "metadata": {},
   "outputs": [
    {
     "data": {
      "image/png": "[encoded data removed]",
      "text/plain": [
       "<Figure size 640x480 with 1 Axes>"
      ]
     },
     "metadata": {},
     "output_type": "display_data"
    }
   ],
   "source": [
    "result_skoda_mean.plot(x='Skoda',kind='bar',color='skyblue',stacked=False)\n",
    "plt.ylabel('mileage')\n",
    "plt.xticks(rotation=0)\n",
    "plt.show()\n",
    "\n",
    "#Interpretation\n",
    "#Displayed the city mileage using mean."
   ]
  },
  {
   "cell_type": "code",
   "execution_count": 93,
   "id": "325f5521-6adb-41b6-a83c-5d3890fee4ef",
   "metadata": {},
   "outputs": [
    {
     "data": {
      "image/png": "[encoded data removed]",
      "text/plain": [
       "<Figure size 640x480 with 1 Axes>"
      ]
     },
     "metadata": {},
     "output_type": "display_data"
    }
   ],
   "source": [
    "result1_skoda_median.plot(x='Skoda',kind='bar',color='skyblue',stacked=False)\n",
    "plt.ylabel('mileage')\n",
    "plt.xticks(rotation=0)\n",
    "plt.show()\n",
    "#Displayed the city mileage using median."
   ]
  },
  {
   "cell_type": "code",
   "execution_count": 243,
   "id": "121b6b3c-698b-4772-98e0-0cb241397740",
   "metadata": {
    "scrolled": true
   },
   "outputs": [
    {
     "name": "stdout",
     "output_type": "stream",
     "text": [
      "0       20.395\n",
      "1       20.395\n",
      "2       16.240\n",
      "3       20.395\n",
      "4       20.395\n",
      "         ...  \n",
      "1271    23.850\n",
      "1272    23.850\n",
      "1273    18.000\n",
      "1274    15.350\n",
      "1275     9.905\n",
      "Length: 1276, dtype: float64\n"
     ]
    }
   ],
   "source": [
    "#Task-7 Display the avg(city and highway mileage)of all manufactureres using horizontal bar chart,in ascending order of mileage:\n",
    "city=car['City_Mileage_km_litre']\n",
    "high=car['Highway_Mileage_km_litre']\n",
    "avg=(city+high)/2\n",
    "print(avg)"
   ]
  },
  {
   "cell_type": "code",
   "execution_count": 245,
   "id": "d7f54335-502c-4ac3-9b6f-a8900c424c81",
   "metadata": {
    "scrolled": true
   },
   "outputs": [
    {
     "data": {
      "text/html": [
       "<div>\n",
       "<style scoped>\n",
       "    .dataframe tbody tr th:only-of-type {\n",
       "        vertical-align: middle;\n",
       "    }\n",
       "\n",
       "    .dataframe tbody tr th {\n",
       "        vertical-align: top;\n",
       "    }\n",
       "\n",
       "    .dataframe thead th {\n",
       "        text-align: right;\n",
       "    }\n",
       "</style>\n",
       "<table border=\"1\" class=\"dataframe\">\n",
       "  <thead>\n",
       "    <tr style=\"text-align: right;\">\n",
       "      <th></th>\n",
       "      <th>S. No.</th>\n",
       "      <th>Make</th>\n",
       "      <th>Model</th>\n",
       "      <th>Variant</th>\n",
       "      <th>Displacement</th>\n",
       "      <th>Cylinders</th>\n",
       "      <th>Valves_Per_Cylinder</th>\n",
       "      <th>Fuel_Tank_Capacity_litre</th>\n",
       "      <th>Fuel_Type</th>\n",
       "      <th>Height_mm</th>\n",
       "      <th>...</th>\n",
       "      <th>Hill_Assist</th>\n",
       "      <th>Drive_Modes</th>\n",
       "      <th>High_Speed_Alert_System</th>\n",
       "      <th>ABS_(Anti-lock_Braking_System)</th>\n",
       "      <th>Gross_Vehicle_Weight</th>\n",
       "      <th>Airbags</th>\n",
       "      <th>Door_Ajar_Warning</th>\n",
       "      <th>Fasten_Seat_Belt_Warning</th>\n",
       "      <th>Avg_Mileage</th>\n",
       "      <th>Avg_mileage</th>\n",
       "    </tr>\n",
       "  </thead>\n",
       "  <tbody>\n",
       "    <tr>\n",
       "      <th>1264</th>\n",
       "      <td>1264</td>\n",
       "      <td>Bentley</td>\n",
       "      <td>Flying Spur</td>\n",
       "      <td>W12</td>\n",
       "      <td>5998.000000</td>\n",
       "      <td>12.0</td>\n",
       "      <td>4.0</td>\n",
       "      <td>90.0</td>\n",
       "      <td>Petrol</td>\n",
       "      <td>1488.0</td>\n",
       "      <td>...</td>\n",
       "      <td>Yes</td>\n",
       "      <td>Normal</td>\n",
       "      <td>Yes</td>\n",
       "      <td>Yes</td>\n",
       "      <td>2972 kg</td>\n",
       "      <td>Front passenger frontal airbag, Front passenge...</td>\n",
       "      <td>Yes</td>\n",
       "      <td>Yes</td>\n",
       "      <td>3.000</td>\n",
       "      <td>3.000</td>\n",
       "    </tr>\n",
       "    <tr>\n",
       "      <th>1263</th>\n",
       "      <td>1263</td>\n",
       "      <td>Bentley</td>\n",
       "      <td>Flying Spur</td>\n",
       "      <td>V8</td>\n",
       "      <td>3993.000000</td>\n",
       "      <td>8.0</td>\n",
       "      <td>4.0</td>\n",
       "      <td>90.0</td>\n",
       "      <td>Petrol</td>\n",
       "      <td>1488.0</td>\n",
       "      <td>...</td>\n",
       "      <td>Yes</td>\n",
       "      <td>Normal</td>\n",
       "      <td>Yes</td>\n",
       "      <td>Yes</td>\n",
       "      <td>2972 kg</td>\n",
       "      <td>Driver frontal airbag, Front passenger frontal...</td>\n",
       "      <td>Yes</td>\n",
       "      <td>Yes</td>\n",
       "      <td>3.000</td>\n",
       "      <td>3.000</td>\n",
       "    </tr>\n",
       "    <tr>\n",
       "      <th>876</th>\n",
       "      <td>876</td>\n",
       "      <td>Lamborghini</td>\n",
       "      <td>Aventador</td>\n",
       "      <td>Lp 700-4</td>\n",
       "      <td>6498.000000</td>\n",
       "      <td>12.0</td>\n",
       "      <td>4.0</td>\n",
       "      <td>90.0</td>\n",
       "      <td>Petrol</td>\n",
       "      <td>1136.0</td>\n",
       "      <td>...</td>\n",
       "      <td>Yes</td>\n",
       "      <td>Normal</td>\n",
       "      <td>Yes</td>\n",
       "      <td>Yes</td>\n",
       "      <td>2510 kg</td>\n",
       "      <td>Driver frontal airbag, Front passenger frontal...</td>\n",
       "      <td>Yes</td>\n",
       "      <td>Yes</td>\n",
       "      <td>4.000</td>\n",
       "      <td>4.000</td>\n",
       "    </tr>\n",
       "    <tr>\n",
       "      <th>878</th>\n",
       "      <td>878</td>\n",
       "      <td>Lamborghini</td>\n",
       "      <td>Aventador</td>\n",
       "      <td>S</td>\n",
       "      <td>6498.000000</td>\n",
       "      <td>12.0</td>\n",
       "      <td>4.0</td>\n",
       "      <td>90.0</td>\n",
       "      <td>Petrol</td>\n",
       "      <td>1136.0</td>\n",
       "      <td>...</td>\n",
       "      <td>Yes</td>\n",
       "      <td>Normal</td>\n",
       "      <td>Yes</td>\n",
       "      <td>Yes</td>\n",
       "      <td>2510 kg</td>\n",
       "      <td>Drive side airbag, Front passenger frontal air...</td>\n",
       "      <td>Yes</td>\n",
       "      <td>Yes</td>\n",
       "      <td>4.300</td>\n",
       "      <td>4.300</td>\n",
       "    </tr>\n",
       "    <tr>\n",
       "      <th>1172</th>\n",
       "      <td>1172</td>\n",
       "      <td>Ferrari</td>\n",
       "      <td>458 Spider</td>\n",
       "      <td>V8</td>\n",
       "      <td>3902.000000</td>\n",
       "      <td>8.0</td>\n",
       "      <td>4.0</td>\n",
       "      <td>86.0</td>\n",
       "      <td>Petrol</td>\n",
       "      <td>1211.0</td>\n",
       "      <td>...</td>\n",
       "      <td>Yes</td>\n",
       "      <td>Normal</td>\n",
       "      <td>Yes</td>\n",
       "      <td>Yes</td>\n",
       "      <td>2510 kg</td>\n",
       "      <td>Driver frontal airbag, Front passenger frontal...</td>\n",
       "      <td>Yes</td>\n",
       "      <td>Yes</td>\n",
       "      <td>4.350</td>\n",
       "      <td>4.350</td>\n",
       "    </tr>\n",
       "    <tr>\n",
       "      <th>...</th>\n",
       "      <td>...</td>\n",
       "      <td>...</td>\n",
       "      <td>...</td>\n",
       "      <td>...</td>\n",
       "      <td>...</td>\n",
       "      <td>...</td>\n",
       "      <td>...</td>\n",
       "      <td>...</td>\n",
       "      <td>...</td>\n",
       "      <td>...</td>\n",
       "      <td>...</td>\n",
       "      <td>...</td>\n",
       "      <td>...</td>\n",
       "      <td>...</td>\n",
       "      <td>...</td>\n",
       "      <td>...</td>\n",
       "      <td>...</td>\n",
       "      <td>...</td>\n",
       "      <td>...</td>\n",
       "      <td>...</td>\n",
       "      <td>...</td>\n",
       "    </tr>\n",
       "    <tr>\n",
       "      <th>615</th>\n",
       "      <td>615</td>\n",
       "      <td>Mahindra</td>\n",
       "      <td>E2O Plus</td>\n",
       "      <td>P4</td>\n",
       "      <td>1858.804589</td>\n",
       "      <td>4.0</td>\n",
       "      <td>4.0</td>\n",
       "      <td>46.0</td>\n",
       "      <td>Electric</td>\n",
       "      <td>1585.0</td>\n",
       "      <td>...</td>\n",
       "      <td>Yes</td>\n",
       "      <td>Normal</td>\n",
       "      <td>Yes</td>\n",
       "      <td>Yes</td>\n",
       "      <td>1257 kg</td>\n",
       "      <td>Driver frontal airbag, Front passenger frontal...</td>\n",
       "      <td>Yes</td>\n",
       "      <td>Yes</td>\n",
       "      <td>48.595</td>\n",
       "      <td>48.595</td>\n",
       "    </tr>\n",
       "    <tr>\n",
       "      <th>616</th>\n",
       "      <td>616</td>\n",
       "      <td>Mahindra</td>\n",
       "      <td>E2O Plus</td>\n",
       "      <td>P6</td>\n",
       "      <td>1858.804589</td>\n",
       "      <td>4.0</td>\n",
       "      <td>4.0</td>\n",
       "      <td>46.0</td>\n",
       "      <td>Electric</td>\n",
       "      <td>1585.0</td>\n",
       "      <td>...</td>\n",
       "      <td>Yes</td>\n",
       "      <td>Normal</td>\n",
       "      <td>Yes</td>\n",
       "      <td>Yes</td>\n",
       "      <td>1257 kg</td>\n",
       "      <td>Driver frontal airbag, Front passenger frontal...</td>\n",
       "      <td>Yes</td>\n",
       "      <td>Yes</td>\n",
       "      <td>48.595</td>\n",
       "      <td>48.595</td>\n",
       "    </tr>\n",
       "    <tr>\n",
       "      <th>687</th>\n",
       "      <td>687</td>\n",
       "      <td>Mahindra</td>\n",
       "      <td>E Verito</td>\n",
       "      <td>D4</td>\n",
       "      <td>72.000000</td>\n",
       "      <td>4.0</td>\n",
       "      <td>4.0</td>\n",
       "      <td>46.0</td>\n",
       "      <td>Electric</td>\n",
       "      <td>1540.0</td>\n",
       "      <td>...</td>\n",
       "      <td>Yes</td>\n",
       "      <td>Normal</td>\n",
       "      <td>Yes</td>\n",
       "      <td>Yes</td>\n",
       "      <td>1700 kg</td>\n",
       "      <td>Driver frontal airbag, Front passenger frontal...</td>\n",
       "      <td>Yes</td>\n",
       "      <td>Yes</td>\n",
       "      <td>63.595</td>\n",
       "      <td>63.595</td>\n",
       "    </tr>\n",
       "    <tr>\n",
       "      <th>689</th>\n",
       "      <td>689</td>\n",
       "      <td>Mahindra</td>\n",
       "      <td>E Verito</td>\n",
       "      <td>D6</td>\n",
       "      <td>72.000000</td>\n",
       "      <td>4.0</td>\n",
       "      <td>4.0</td>\n",
       "      <td>46.0</td>\n",
       "      <td>Electric</td>\n",
       "      <td>1540.0</td>\n",
       "      <td>...</td>\n",
       "      <td>Yes</td>\n",
       "      <td>Normal</td>\n",
       "      <td>Yes</td>\n",
       "      <td>Yes</td>\n",
       "      <td>1700 kg</td>\n",
       "      <td>Driver frontal airbag, Front passenger frontal...</td>\n",
       "      <td>Yes</td>\n",
       "      <td>Yes</td>\n",
       "      <td>63.595</td>\n",
       "      <td>63.595</td>\n",
       "    </tr>\n",
       "    <tr>\n",
       "      <th>688</th>\n",
       "      <td>688</td>\n",
       "      <td>Mahindra</td>\n",
       "      <td>E Verito</td>\n",
       "      <td>D2</td>\n",
       "      <td>72.000000</td>\n",
       "      <td>4.0</td>\n",
       "      <td>4.0</td>\n",
       "      <td>46.0</td>\n",
       "      <td>Electric</td>\n",
       "      <td>1540.0</td>\n",
       "      <td>...</td>\n",
       "      <td>Yes</td>\n",
       "      <td>Normal</td>\n",
       "      <td>Yes</td>\n",
       "      <td>Yes</td>\n",
       "      <td>1700 kg</td>\n",
       "      <td>Driver frontal airbag, Front passenger frontal...</td>\n",
       "      <td>Yes</td>\n",
       "      <td>Yes</td>\n",
       "      <td>63.595</td>\n",
       "      <td>63.595</td>\n",
       "    </tr>\n",
       "  </tbody>\n",
       "</table>\n",
       "<p>1276 rows × 32 columns</p>\n",
       "</div>"
      ],
      "text/plain": [
       "      S. No.         Make        Model   Variant  Displacement  Cylinders  \\\n",
       "1264    1264      Bentley  Flying Spur       W12   5998.000000       12.0   \n",
       "1263    1263      Bentley  Flying Spur        V8   3993.000000        8.0   \n",
       "876      876  Lamborghini    Aventador  Lp 700-4   6498.000000       12.0   \n",
       "878      878  Lamborghini    Aventador         S   6498.000000       12.0   \n",
       "1172    1172      Ferrari   458 Spider        V8   3902.000000        8.0   \n",
       "...      ...          ...          ...       ...           ...        ...   \n",
       "615      615     Mahindra     E2O Plus        P4   1858.804589        4.0   \n",
       "616      616     Mahindra     E2O Plus        P6   1858.804589        4.0   \n",
       "687      687     Mahindra     E Verito        D4     72.000000        4.0   \n",
       "689      689     Mahindra     E Verito        D6     72.000000        4.0   \n",
       "688      688     Mahindra     E Verito        D2     72.000000        4.0   \n",
       "\n",
       "      Valves_Per_Cylinder  Fuel_Tank_Capacity_litre Fuel_Type  Height_mm  ...  \\\n",
       "1264                  4.0                      90.0    Petrol     1488.0  ...   \n",
       "1263                  4.0                      90.0    Petrol     1488.0  ...   \n",
       "876                   4.0                      90.0    Petrol     1136.0  ...   \n",
       "878                   4.0                      90.0    Petrol     1136.0  ...   \n",
       "1172                  4.0                      86.0    Petrol     1211.0  ...   \n",
       "...                   ...                       ...       ...        ...  ...   \n",
       "615                   4.0                      46.0  Electric     1585.0  ...   \n",
       "616                   4.0                      46.0  Electric     1585.0  ...   \n",
       "687                   4.0                      46.0  Electric     1540.0  ...   \n",
       "689                   4.0                      46.0  Electric     1540.0  ...   \n",
       "688                   4.0                      46.0  Electric     1540.0  ...   \n",
       "\n",
       "      Hill_Assist  Drive_Modes High_Speed_Alert_System  \\\n",
       "1264          Yes       Normal                     Yes   \n",
       "1263          Yes       Normal                     Yes   \n",
       "876           Yes       Normal                     Yes   \n",
       "878           Yes       Normal                     Yes   \n",
       "1172          Yes       Normal                     Yes   \n",
       "...           ...          ...                     ...   \n",
       "615           Yes       Normal                     Yes   \n",
       "616           Yes       Normal                     Yes   \n",
       "687           Yes       Normal                     Yes   \n",
       "689           Yes       Normal                     Yes   \n",
       "688           Yes       Normal                     Yes   \n",
       "\n",
       "      ABS_(Anti-lock_Braking_System)  Gross_Vehicle_Weight  \\\n",
       "1264                             Yes               2972 kg   \n",
       "1263                             Yes               2972 kg   \n",
       "876                              Yes               2510 kg   \n",
       "878                              Yes               2510 kg   \n",
       "1172                             Yes               2510 kg   \n",
       "...                              ...                   ...   \n",
       "615                              Yes               1257 kg   \n",
       "616                              Yes               1257 kg   \n",
       "687                              Yes               1700 kg   \n",
       "689                              Yes               1700 kg   \n",
       "688                              Yes               1700 kg   \n",
       "\n",
       "                                                Airbags Door_Ajar_Warning  \\\n",
       "1264  Front passenger frontal airbag, Front passenge...               Yes   \n",
       "1263  Driver frontal airbag, Front passenger frontal...               Yes   \n",
       "876   Driver frontal airbag, Front passenger frontal...               Yes   \n",
       "878   Drive side airbag, Front passenger frontal air...               Yes   \n",
       "1172  Driver frontal airbag, Front passenger frontal...               Yes   \n",
       "...                                                 ...               ...   \n",
       "615   Driver frontal airbag, Front passenger frontal...               Yes   \n",
       "616   Driver frontal airbag, Front passenger frontal...               Yes   \n",
       "687   Driver frontal airbag, Front passenger frontal...               Yes   \n",
       "689   Driver frontal airbag, Front passenger frontal...               Yes   \n",
       "688   Driver frontal airbag, Front passenger frontal...               Yes   \n",
       "\n",
       "      Fasten_Seat_Belt_Warning  Avg_Mileage  Avg_mileage  \n",
       "1264                       Yes        3.000        3.000  \n",
       "1263                       Yes        3.000        3.000  \n",
       "876                        Yes        4.000        4.000  \n",
       "878                        Yes        4.300        4.300  \n",
       "1172                       Yes        4.350        4.350  \n",
       "...                        ...          ...          ...  \n",
       "615                        Yes       48.595       48.595  \n",
       "616                        Yes       48.595       48.595  \n",
       "687                        Yes       63.595       63.595  \n",
       "689                        Yes       63.595       63.595  \n",
       "688                        Yes       63.595       63.595  \n",
       "\n",
       "[1276 rows x 32 columns]"
      ]
     },
     "execution_count": 245,
     "metadata": {},
     "output_type": "execute_result"
    }
   ],
   "source": [
    "car['Avg_mileage']=avg  #new column creaged that is 'Avg_mileage'(Dataframe)\n",
    "sorting=car.sort_values('Avg_mileage',ascending=True)\n",
    "sorting\n",
    "\n",
    "#Interpretation:\n",
    "#Under this task first I has added the average of city and highway mileage and then sorted it and displayed 'barh'."
   ]
  },
  {
   "cell_type": "code",
   "execution_count": 247,
   "id": "13f0e9e4-bedd-4404-b446-f89c726405ae",
   "metadata": {},
   "outputs": [
    {
     "data": {
      "image/png": "[encoded data removed]",
      "text/plain": [
       "<Figure size 800x800 with 1 Axes>"
      ]
     },
     "metadata": {},
     "output_type": "display_data"
    }
   ],
   "source": [
    "plt.figure(figsize=(8,8))\n",
    "plt.barh(sorting['Make'],sorting['Avg_mileage'],color='orange')\n",
    "plt.xticks(rotation=90)\n",
    "plt.title('Avg city and highway mileage of all manufacturer')\n",
    "plt.ylabel('Manufacturer')\n",
    "plt.xlabel('Average of city and highway mileage')\n",
    "plt.tight_layout()  #adjust the overlapping.\n",
    "plt.show()\n",
    "#Displayed using horizontal bar chart."
   ]
  },
  {
   "cell_type": "code",
   "execution_count": 285,
   "id": "6537cf8d-2e44-47f4-a315-92deaa7da3e8",
   "metadata": {},
   "outputs": [
    {
     "data": {
      "text/html": [
       "<div>\n",
       "<style scoped>\n",
       "    .dataframe tbody tr th:only-of-type {\n",
       "        vertical-align: middle;\n",
       "    }\n",
       "\n",
       "    .dataframe tbody tr th {\n",
       "        vertical-align: top;\n",
       "    }\n",
       "\n",
       "    .dataframe thead th {\n",
       "        text-align: right;\n",
       "    }\n",
       "</style>\n",
       "<table border=\"1\" class=\"dataframe\">\n",
       "  <thead>\n",
       "    <tr style=\"text-align: right;\">\n",
       "      <th></th>\n",
       "      <th>Model</th>\n",
       "      <th>Displacement</th>\n",
       "      <th>City_Mileage_km_litre</th>\n",
       "    </tr>\n",
       "  </thead>\n",
       "  <tbody>\n",
       "    <tr>\n",
       "      <th>688</th>\n",
       "      <td>E Verito</td>\n",
       "      <td>72.000000</td>\n",
       "      <td>110.0</td>\n",
       "    </tr>\n",
       "    <tr>\n",
       "      <th>689</th>\n",
       "      <td>E Verito</td>\n",
       "      <td>72.000000</td>\n",
       "      <td>110.0</td>\n",
       "    </tr>\n",
       "    <tr>\n",
       "      <th>687</th>\n",
       "      <td>E Verito</td>\n",
       "      <td>72.000000</td>\n",
       "      <td>110.0</td>\n",
       "    </tr>\n",
       "    <tr>\n",
       "      <th>616</th>\n",
       "      <td>E2O Plus</td>\n",
       "      <td>1858.804589</td>\n",
       "      <td>80.0</td>\n",
       "    </tr>\n",
       "    <tr>\n",
       "      <th>615</th>\n",
       "      <td>E2O Plus</td>\n",
       "      <td>1858.804589</td>\n",
       "      <td>80.0</td>\n",
       "    </tr>\n",
       "    <tr>\n",
       "      <th>160</th>\n",
       "      <td>Dzire</td>\n",
       "      <td>1248.000000</td>\n",
       "      <td>28.4</td>\n",
       "    </tr>\n",
       "    <tr>\n",
       "      <th>157</th>\n",
       "      <td>Dzire</td>\n",
       "      <td>1248.000000</td>\n",
       "      <td>28.4</td>\n",
       "    </tr>\n",
       "    <tr>\n",
       "      <th>166</th>\n",
       "      <td>Dzire</td>\n",
       "      <td>1248.000000</td>\n",
       "      <td>28.4</td>\n",
       "    </tr>\n",
       "    <tr>\n",
       "      <th>165</th>\n",
       "      <td>Dzire</td>\n",
       "      <td>1248.000000</td>\n",
       "      <td>28.4</td>\n",
       "    </tr>\n",
       "    <tr>\n",
       "      <th>164</th>\n",
       "      <td>Dzire</td>\n",
       "      <td>1248.000000</td>\n",
       "      <td>28.4</td>\n",
       "    </tr>\n",
       "  </tbody>\n",
       "</table>\n",
       "</div>"
      ],
      "text/plain": [
       "        Model  Displacement  City_Mileage_km_litre\n",
       "688  E Verito     72.000000                  110.0\n",
       "689  E Verito     72.000000                  110.0\n",
       "687  E Verito     72.000000                  110.0\n",
       "616  E2O Plus   1858.804589                   80.0\n",
       "615  E2O Plus   1858.804589                   80.0\n",
       "160     Dzire   1248.000000                   28.4\n",
       "157     Dzire   1248.000000                   28.4\n",
       "166     Dzire   1248.000000                   28.4\n",
       "165     Dzire   1248.000000                   28.4\n",
       "164     Dzire   1248.000000                   28.4"
      ]
     },
     "execution_count": 285,
     "metadata": {},
     "output_type": "execute_result"
    }
   ],
   "source": [
    "#Task-8 Plot the line chart to understand the relationship between displacement and city mileage by choosing top 10 cars with highest city mileage\n",
    "#What do you infer from this graph?Are there any unusual observations? if yes how would you resolve this:\n",
    "\n",
    "filter=car.sort_values(by='City_Mileage_km_litre',ascending=False)[['Model','Displacement','City_Mileage_km_litre']][:10]\n",
    "filter"
   ]
  },
  {
   "cell_type": "code",
   "execution_count": 287,
   "id": "679f3fb4-927f-4438-aa59-c45654233943",
   "metadata": {},
   "outputs": [
    {
     "data": {
      "image/png": "[encoded data removed]",
      "text/plain": [
       "<Figure size 640x480 with 1 Axes>"
      ]
     },
     "metadata": {},
     "output_type": "display_data"
    }
   ],
   "source": [
    "plt.plot(filter['Displacement'],filter['City_Mileage_km_litre'],color='red',marker='p')\n",
    "plt.title('Relationship between displacement & city mileage')\n",
    "plt.xlabel('Displacement')\n",
    "plt.ylabel('City mileage')\n",
    "plt.grid()\n",
    "plt.show()\n",
    "\n",
    "#Interpretation:\n",
    "#Under this task I has observed that the line chart for displacement is higher than city mileage."
   ]
  },
  {
   "cell_type": "code",
   "execution_count": 365,
   "id": "31acda50-3d3b-444a-b710-beeb7988635e",
   "metadata": {},
   "outputs": [
    {
     "name": "stdout",
     "output_type": "stream",
     "text": [
      "City_Mileage_km_litre    16.017\n",
      "Name: Hyundai, dtype: float64\n",
      "City_Mileage_km_litre    18.85443\n",
      "Name: Maruti Suzuki, dtype: float64\n",
      "City_Mileage_km_litre    17.1829\n",
      "Name: Tata, dtype: float64\n",
      "City_Mileage_km_litre    14.596757\n",
      "Name: Bmw, dtype: float64\n"
     ]
    }
   ],
   "source": [
    "#Task-9 Analyze the spread of fuel economy using histogram for all car models?Which 'Make' is most skewed mileage distribution with a separate histogram:\n",
    "pvt=pd.pivot_table(car,index=['Make'],values=['City_Mileage_km_litre'])\n",
    "Hyundai=pvt.loc['Hyundai']\n",
    "Suzuki=pvt.loc['Maruti Suzuki']\n",
    "Tata=pvt.loc['Tata']\n",
    "Bmw=pvt.loc['Bmw']\n",
    "print(Hyundai)\n",
    "print(Suzuki)\n",
    "print(Tata)\n",
    "print(Bmw) "
   ]
  },
  {
   "cell_type": "code",
   "execution_count": 369,
   "id": "c948bd11-ce8f-4b72-af7c-69798c1257a4",
   "metadata": {},
   "outputs": [
    {
     "data": {
      "image/png": "[encoded data removed]",
      "text/plain": [
       "<Figure size 640x480 with 1 Axes>"
      ]
     },
     "metadata": {},
     "output_type": "display_data"
    }
   ],
   "source": [
    "plt.hist(Hyundai,color='orange',edgecolor='black')\n",
    "plt.title('Spread of fuel economy')\n",
    "plt.xlabel('Hyundai')\n",
    "plt.ylabel('City mileage')\n",
    "plt.grid()\n",
    "plt.show()\n",
    "\n",
    "#Interpretation:\n",
    "#Under this task Hyundai is the second most skewed mileage distribution."
   ]
  },
  {
   "cell_type": "code",
   "execution_count": 379,
   "id": "6886d6a7-36bf-4076-ae29-4f4ee8e4da77",
   "metadata": {},
   "outputs": [
    {
     "data": {
      "image/png": "[encoded data removed]",
      "text/plain": [
       "<Figure size 640x480 with 1 Axes>"
      ]
     },
     "metadata": {},
     "output_type": "display_data"
    }
   ],
   "source": [
    "plt.hist(Suzuki,color='pink',edgecolor='black')\n",
    "plt.title('Spread of fuel economy')\n",
    "plt.xlabel('Suzuki')\n",
    "plt.ylabel('City mileage')\n",
    "plt.grid()\n",
    "plt.show()\n",
    "\n",
    "#Interpretation:\n",
    "#Under this task Suzuki is the most(first) skewed mileage distribution."
   ]
  },
  {
   "cell_type": "code",
   "execution_count": 381,
   "id": "89f49ae6-4378-4af4-a048-54efacfdf358",
   "metadata": {},
   "outputs": [
    {
     "data": {
      "image/png": "[encoded data removed]",
      "text/plain": [
       "<Figure size 640x480 with 1 Axes>"
      ]
     },
     "metadata": {},
     "output_type": "display_data"
    }
   ],
   "source": [
    "plt.hist(Tata,color='green',edgecolor='black')\n",
    "plt.title('Spread of fuel economy')\n",
    "plt.xlabel('Tata')\n",
    "plt.ylabel('City mileage')\n",
    "plt.grid()\n",
    "plt.show()\n",
    "\n",
    "#Interpretation:\n",
    "#Under this task Tata is the fourth most skewed mileage distribution."
   ]
  },
  {
   "cell_type": "code",
   "execution_count": 383,
   "id": "f88810b1-d758-4e5a-8b30-29fd8986420c",
   "metadata": {},
   "outputs": [
    {
     "data": {
      "image/png": "[encoded data removed]",
      "text/plain": [
       "<Figure size 640x480 with 1 Axes>"
      ]
     },
     "metadata": {},
     "output_type": "display_data"
    }
   ],
   "source": [
    "plt.hist(Bmw,color='skyblue',edgecolor='black')\n",
    "plt.title('Spread of fuel economy')\n",
    "plt.xlabel('Bmw')\n",
    "plt.ylabel('City mileage')\n",
    "plt.grid()\n",
    "plt.show()\n",
    "\n",
    "#Interpretation:\n",
    "#Under this task bmw is the third most skewed mileage distribution."
   ]
  },
  {
   "cell_type": "code",
   "execution_count": 726,
   "id": "a103ccf0-fc80-4858-ada2-d2a7b32b441d",
   "metadata": {
    "scrolled": true
   },
   "outputs": [],
   "source": [
    "#Task-10 Create a another dataframe and do missing value treatment:\n",
    "new=car.copy()"
   ]
  },
  {
   "cell_type": "code",
   "execution_count": 728,
   "id": "b53f75d9-7293-474a-93f7-e189ab21d610",
   "metadata": {},
   "outputs": [
    {
     "data": {
      "text/plain": [
       "S. No.                            0\n",
       "Make                              0\n",
       "Model                             0\n",
       "Variant                           0\n",
       "Displacement                      0\n",
       "Cylinders                         0\n",
       "Valves_Per_Cylinder               0\n",
       "Fuel_Tank_Capacity_litre          0\n",
       "Fuel_Type                         0\n",
       "Height_mm                         0\n",
       "Length_mm                         0\n",
       "Width_mm                          0\n",
       "Body_Type                         0\n",
       "Doors                             0\n",
       "City_Mileage_km_litre             0\n",
       "Highway_Mileage_km_litre          0\n",
       "Kerb_Weight                       0\n",
       "Power                             0\n",
       "Torque                            0\n",
       "Seating_Capacity                  0\n",
       "Central_Locking                   0\n",
       "Child_Safety_Locks                0\n",
       "Hill_Assist                       0\n",
       "Drive_Modes                       0\n",
       "High_Speed_Alert_System           0\n",
       "ABS_(Anti-lock_Braking_System)    0\n",
       "Gross_Vehicle_Weight              0\n",
       "Airbags                           0\n",
       "Door_Ajar_Warning                 0\n",
       "Fasten_Seat_Belt_Warning          0\n",
       "dtype: int64"
      ]
     },
     "execution_count": 728,
     "metadata": {},
     "output_type": "execute_result"
    }
   ],
   "source": [
    "new.isnull().sum()\n",
    "#Interpretation:\n",
    "#Under this task I identified there is no missing values in these columns."
   ]
  },
  {
   "cell_type": "code",
   "execution_count": 730,
   "id": "6e6f3636-09c1-4c6d-bfce-a2962d2965ea",
   "metadata": {},
   "outputs": [
    {
     "data": {
      "text/plain": [
       "S. No.                              int64\n",
       "Make                               object\n",
       "Model                              object\n",
       "Variant                            object\n",
       "Displacement                      float64\n",
       "Cylinders                         float64\n",
       "Valves_Per_Cylinder               float64\n",
       "Fuel_Tank_Capacity_litre          float64\n",
       "Fuel_Type                          object\n",
       "Height_mm                         float64\n",
       "Length_mm                         float64\n",
       "Width_mm                          float64\n",
       "Body_Type                          object\n",
       "Doors                             float64\n",
       "City_Mileage_km_litre             float64\n",
       "Highway_Mileage_km_litre          float64\n",
       "Kerb_Weight                        object\n",
       "Power                             float64\n",
       "Torque                            float64\n",
       "Seating_Capacity                  float64\n",
       "Central_Locking                    object\n",
       "Child_Safety_Locks                 object\n",
       "Hill_Assist                        object\n",
       "Drive_Modes                        object\n",
       "High_Speed_Alert_System            object\n",
       "ABS_(Anti-lock_Braking_System)     object\n",
       "Gross_Vehicle_Weight               object\n",
       "Airbags                            object\n",
       "Door_Ajar_Warning                  object\n",
       "Fasten_Seat_Belt_Warning           object\n",
       "dtype: object"
      ]
     },
     "execution_count": 730,
     "metadata": {},
     "output_type": "execute_result"
    }
   ],
   "source": [
    "new.dtypes\n",
    "\n",
    "#Interpretation:\n",
    "#Under this task I was already done a preprocessing before task-1. so thats why there is no missing values."
   ]
  },
  {
   "cell_type": "code",
   "execution_count": 732,
   "id": "9e2d629d-b0db-4cf5-9a84-4ecc2ec9f01d",
   "metadata": {},
   "outputs": [],
   "source": [
    "#Task-11 Remove the 'kg' and all other objects and convert into float furthermore multiple with pounds=2.2:\n",
    "new['Kerb_Weight']=new['Kerb_Weight'].str.replace(r\"kg\",'')"
   ]
  },
  {
   "cell_type": "code",
   "execution_count": 734,
   "id": "fd7a07d9-fd68-4ad4-928f-5cd8c7cf2afa",
   "metadata": {},
   "outputs": [],
   "source": [
    "new['Gross_Vehicle_Weight']=new['Gross_Vehicle_Weight'].str.replace(r\"kg\",'')"
   ]
  },
  {
   "cell_type": "code",
   "execution_count": 736,
   "id": "f204c7c7-8ea3-4b0d-a3c8-1af462a1b8f8",
   "metadata": {},
   "outputs": [],
   "source": [
    "new['Kerb_Weight']=new['Kerb_Weight'].str.replace(r\"-\",'')"
   ]
  },
  {
   "cell_type": "code",
   "execution_count": 738,
   "id": "72f30afb-e2b4-4a70-873f-f151b9fd0a84",
   "metadata": {},
   "outputs": [],
   "source": [
    "new['Gross_Vehicle_Weight']=new['Gross_Vehicle_Weight'].str.replace(r\"â€¯ \",'')"
   ]
  },
  {
   "cell_type": "code",
   "execution_count": 740,
   "id": "784a1299-b681-437b-93f4-007f4c786265",
   "metadata": {},
   "outputs": [],
   "source": [
    "new['Gross_Vehicle_Weight']=new['Gross_Vehicle_Weight'].replace(['NA '],100.50)"
   ]
  },
  {
   "cell_type": "code",
   "execution_count": 742,
   "id": "7198ca8c-ead9-45c9-9dbe-154f168e36d2",
   "metadata": {
    "scrolled": true
   },
   "outputs": [],
   "source": [
    "new=new.astype({'Kerb_Weight':float})"
   ]
  },
  {
   "cell_type": "code",
   "execution_count": 744,
   "id": "7e7cefdc-d201-4369-b9b9-4aba55281fc3",
   "metadata": {
    "scrolled": true
   },
   "outputs": [],
   "source": [
    "new=new.astype({'Gross_Vehicle_Weight':float})"
   ]
  },
  {
   "cell_type": "code",
   "execution_count": 746,
   "id": "c2c7f34a-4386-4237-a1b9-bd623134fdad",
   "metadata": {},
   "outputs": [
    {
     "data": {
      "text/plain": [
       "S. No.                              int64\n",
       "Make                               object\n",
       "Model                              object\n",
       "Variant                            object\n",
       "Displacement                      float64\n",
       "Cylinders                         float64\n",
       "Valves_Per_Cylinder               float64\n",
       "Fuel_Tank_Capacity_litre          float64\n",
       "Fuel_Type                          object\n",
       "Height_mm                         float64\n",
       "Length_mm                         float64\n",
       "Width_mm                          float64\n",
       "Body_Type                          object\n",
       "Doors                             float64\n",
       "City_Mileage_km_litre             float64\n",
       "Highway_Mileage_km_litre          float64\n",
       "Kerb_Weight                       float64\n",
       "Power                             float64\n",
       "Torque                            float64\n",
       "Seating_Capacity                  float64\n",
       "Central_Locking                    object\n",
       "Child_Safety_Locks                 object\n",
       "Hill_Assist                        object\n",
       "Drive_Modes                        object\n",
       "High_Speed_Alert_System            object\n",
       "ABS_(Anti-lock_Braking_System)     object\n",
       "Gross_Vehicle_Weight              float64\n",
       "Airbags                            object\n",
       "Door_Ajar_Warning                  object\n",
       "Fasten_Seat_Belt_Warning           object\n",
       "dtype: object"
      ]
     },
     "execution_count": 746,
     "metadata": {},
     "output_type": "execute_result"
    }
   ],
   "source": [
    "new.dtypes"
   ]
  },
  {
   "cell_type": "code",
   "execution_count": 748,
   "id": "1860e25a-1544-45d1-969c-704d9d6bf0fc",
   "metadata": {
    "scrolled": true
   },
   "outputs": [
    {
     "data": {
      "text/plain": [
       "0       1452.0\n",
       "1       1595.0\n",
       "2       1562.0\n",
       "3       1595.0\n",
       "4       1595.0\n",
       "         ...  \n",
       "1271    2574.0\n",
       "1272    2585.0\n",
       "1273    2435.4\n",
       "1274    2376.0\n",
       "1275    5137.0\n",
       "Name: Kerb_Weight, Length: 1276, dtype: float64"
      ]
     },
     "execution_count": 748,
     "metadata": {},
     "output_type": "execute_result"
    }
   ],
   "source": [
    "pound_kerb=2.2\n",
    "multiple=new.Kerb_Weight*pound_kerb\n",
    "multiple"
   ]
  },
  {
   "cell_type": "code",
   "execution_count": 750,
   "id": "8be83337-c5bb-4aa2-9a71-aca3166d3a08",
   "metadata": {
    "scrolled": true
   },
   "outputs": [
    {
     "data": {
      "text/plain": [
       "0       5522.0\n",
       "1       5522.0\n",
       "2       5522.0\n",
       "3       5522.0\n",
       "4       5522.0\n",
       "         ...  \n",
       "1271    3399.0\n",
       "1272    3410.0\n",
       "1273    3260.4\n",
       "1274    3201.0\n",
       "1275    6842.0\n",
       "Name: Gross_Vehicle_Weight, Length: 1276, dtype: float64"
      ]
     },
     "execution_count": 750,
     "metadata": {},
     "output_type": "execute_result"
    }
   ],
   "source": [
    "pound_kerb=2.2\n",
    "multiple1=new.Gross_Vehicle_Weight*pound_kerb\n",
    "multiple1\n",
    "#Interpretation:\n",
    "#Under this task I has changed multipled with pounds for both the columns(Gross_Vehicle_Weight,Kerb_Weight)."
   ]
  },
  {
   "cell_type": "code",
   "execution_count": 58,
   "id": "a7275645-cd14-4206-b9d1-ddef7369eb8e",
   "metadata": {
    "scrolled": true
   },
   "outputs": [
    {
     "name": "stdout",
     "output_type": "stream",
     "text": [
      "Mean:                   Displacement  Cylinders  Valves_Per_Cylinder\n",
      "Make                                                          \n",
      "Aston Martin       5038.333333  10.666667             4.000000\n",
      "Audi               2256.354839   5.161290             4.774194\n",
      "Bajaj               216.000000   4.000000             1.000000\n",
      "Bentley            5447.833333  10.666667             4.000000\n",
      "Bmw                2707.918919   5.459459             4.000000\n",
      "Bugatti            7993.000000  16.000000             4.000000\n",
      "Datsun             1065.066667   3.000000             4.000000\n",
      "Dc                 2000.000000   4.000000             4.000000\n",
      "Ferrari            4589.500000   8.500000             4.000000\n",
      "Fiat               1269.391304   4.000000             4.000000\n",
      "Force              2447.000000   4.000000             4.000000\n",
      "Ford               1551.325581   3.883721             4.000000\n",
      "Honda              1444.875000   4.000000             4.000000\n",
      "Hyundai            1354.467728   3.938462             4.000000\n",
      "Icml               1994.000000   4.000000             4.000000\n",
      "Isuzu              2578.800000   4.000000             4.000000\n",
      "Jaguar             2679.545455   5.090909             4.000000\n",
      "Jeep               2102.357143   5.857143             4.000000\n",
      "Kia                1635.380952   4.000000             4.000000\n",
      "Lamborghini        5409.692308  10.307692             4.307692\n",
      "Land Rover         2795.000000   5.600000             4.000000\n",
      "Land Rover Rover   3199.703704   6.370370             3.703704\n",
      "Lexus              3491.600000   5.400000             4.800000\n",
      "Mahindra           1721.971506   3.680672             3.747899\n",
      "Maruti Suzuki      1171.731544   3.664430             3.973154\n",
      "Maruti Suzuki R    1083.285714   3.000000             4.000000\n",
      "Maserati           3363.888889   5.777778             4.000000\n",
      "Mg                 1709.046860   4.000000             4.000000\n",
      "Mini               1897.600000   3.800000             4.000000\n",
      "Mitsubishi         2563.571429   4.000000             3.428571\n",
      "Nissan             1507.379310   3.896552             5.172414\n",
      "Not available      2991.370728   5.960000             4.026667\n",
      "Porsche            3062.928571   6.285714             4.000000\n",
      "Premier            1343.500000   4.000000             4.000000\n",
      "Renault            1238.583333   3.555556             4.000000\n",
      "Skoda              1720.581395   4.000000             4.000000\n",
      "Tata               1421.248275   3.480000             3.880000\n",
      "Toyota             1803.292683   4.048780             3.634146\n",
      "Volkswagen         1466.294118   3.823529             3.882353\n",
      "Volvo              1975.555556   4.500000             4.000000\n",
      "=============================================\n",
      "Median:                   Displacement  Cylinders  Valves_Per_Cylinder\n",
      "Make                                                          \n",
      "Aston Martin            5198.0       12.0                  4.0\n",
      "Audi                    1984.0        4.0                  4.0\n",
      "Bajaj                    216.0        4.0                  1.0\n",
      "Bentley                 5974.0       12.0                  4.0\n",
      "Bmw                     2979.0        6.0                  4.0\n",
      "Bugatti                 7993.0       16.0                  4.0\n",
      "Datsun                  1198.0        3.0                  4.0\n",
      "Dc                      2000.0        4.0                  4.0\n",
      "Ferrari                 3902.0        8.0                  4.0\n",
      "Fiat                    1248.0        4.0                  4.0\n",
      "Force                   2596.0        4.0                  4.0\n",
      "Ford                    1498.0        4.0                  4.0\n",
      "Honda                   1498.0        4.0                  4.0\n",
      "Hyundai                 1197.0        4.0                  4.0\n",
      "Icml                    1994.0        4.0                  4.0\n",
      "Isuzu                   2499.0        4.0                  4.0\n",
      "Jaguar                  1999.0        4.0                  4.0\n",
      "Jeep                    1956.0        6.0                  4.0\n",
      "Kia                     1493.0        4.0                  4.0\n",
      "Lamborghini             5204.0       10.0                  4.0\n",
      "Land Rover              2993.0        6.0                  4.0\n",
      "Land Rover Rover        2993.0        6.0                  4.0\n",
      "Lexus                   3456.0        6.0                  4.0\n",
      "Mahindra                1497.0        4.0                  4.0\n",
      "Maruti Suzuki           1197.0        4.0                  4.0\n",
      "Maruti Suzuki R          998.0        3.0                  4.0\n",
      "Maserati                2987.0        6.0                  4.0\n",
      "Mg                      1500.0        4.0                  4.0\n",
      "Mini                    1998.0        4.0                  4.0\n",
      "Mitsubishi              2477.0        4.0                  4.0\n",
      "Nissan                  1461.0        4.0                  4.0\n",
      "Not available           2143.0        4.0                  4.0\n",
      "Porsche                 2995.0        6.0                  4.0\n",
      "Premier                 1368.5        4.0                  4.0\n",
      "Renault                 1461.0        4.0                  4.0\n",
      "Skoda                   1798.0        4.0                  4.0\n",
      "Tata                    1248.0        4.0                  4.0\n",
      "Toyota                  1496.0        4.0                  4.0\n",
      "Volkswagen              1498.0        4.0                  4.0\n",
      "Volvo                   1969.0        4.5                  4.0\n",
      "=============================================\n",
      "Standard deviation:                   Displacement  Cylinders  Valves_Per_Cylinder\n",
      "Make                                                          \n",
      "Aston Martin        986.241519   2.309401             0.000000\n",
      "Audi                836.304352   1.614451             2.996772\n",
      "Bajaj                 0.000000   0.000000             0.000000\n",
      "Bentley            1164.710164   2.065591             0.000000\n",
      "Bmw                 924.567237   1.608909             0.000000\n",
      "Bugatti               0.000000   0.000000             0.000000\n",
      "Datsun              179.470836   0.000000             0.000000\n",
      "Dc                         NaN        NaN                  NaN\n",
      "Ferrari            1125.891647   1.414214             0.000000\n",
      "Fiat                 65.088568   0.000000             0.000000\n",
      "Force               230.829807   0.000000             0.000000\n",
      "Ford                635.526618   0.793104             0.000000\n",
      "Honda               192.049803   0.000000             0.000000\n",
      "Hyundai             273.889091   0.241245             0.000000\n",
      "Icml                  0.000000   0.000000             0.000000\n",
      "Isuzu               455.346242   0.000000             0.000000\n",
      "Jaguar             1171.060030   1.477098             0.000000\n",
      "Jeep                991.904872   0.755929             0.000000\n",
      "Kia                 327.485950   0.000000             0.000000\n",
      "Lamborghini         703.121064   1.109400             1.109400\n",
      "Land Rover          419.529896   0.843274             0.000000\n",
      "Land Rover Rover   1183.611092   1.667521             0.724028\n",
      "Lexus               990.103047   0.966092             1.686548\n",
      "Mahindra            530.524045   0.468188             0.653783\n",
      "Maruti Suzuki       188.540147   0.473782             0.230930\n",
      "Maruti Suzuki R     102.196966   0.000000             0.000000\n",
      "Maserati            752.408872   1.563472             0.000000\n",
      "Mg                  239.682742   0.000000             0.000000\n",
      "Mini                211.661785   0.421637             0.000000\n",
      "Mitsubishi          284.005785   0.000000             0.975900\n",
      "Nissan              454.160247   0.557086             2.904048\n",
      "Not available      1726.403057   2.887251             0.230940\n",
      "Porsche             733.485616   1.325987             0.000000\n",
      "Premier             161.722911   0.000000             0.000000\n",
      "Renault             269.404568   0.503953             0.000000\n",
      "Skoda               207.255333   0.000000             0.000000\n",
      "Tata                404.776419   0.611010             0.477367\n",
      "Toyota              641.799947   0.441726             0.777971\n",
      "Volkswagen          310.309282   0.386953             0.477665\n",
      "Volvo               138.270078   0.514496             0.000000\n",
      "=============================================\n",
      "Coefficient of variance:                   Displacement  Cylinders  Valves_Per_Cylinder\n",
      "Make                                                          \n",
      "Aston Martin         19.574757  21.650635             0.000000\n",
      "Audi                 37.064399  31.279986            62.770234\n",
      "Bajaj                 0.000000   0.000000             0.000000\n",
      "Bentley              21.379328  19.364917             0.000000\n",
      "Bmw                  34.143092  29.470118             0.000000\n",
      "Bugatti               0.000000   0.000000             0.000000\n",
      "Datsun               16.850667   0.000000             0.000000\n",
      "Dc                         NaN        NaN                  NaN\n",
      "Ferrari              24.531902  16.637807             0.000000\n",
      "Fiat                  5.127542   0.000000             0.000000\n",
      "Force                 9.433176   0.000000             0.000000\n",
      "Ford                 40.966682  20.421248             0.000000\n",
      "Honda                13.291794   0.000000             0.000000\n",
      "Hyundai              20.221160   6.125362             0.000000\n",
      "Icml                  0.000000   0.000000             0.000000\n",
      "Isuzu                17.657292   0.000000             0.000000\n",
      "Jaguar               43.703682  29.014423             0.000000\n",
      "Jeep                 47.180608  12.906104             0.000000\n",
      "Kia                  20.025056   0.000000             0.000000\n",
      "Lamborghini          12.997432  10.762840            25.753938\n",
      "Land Rover           15.010014  15.058465             0.000000\n",
      "Land Rover Rover     36.991272  26.176204            19.548756\n",
      "Lexus                28.356715  17.890589            35.136418\n",
      "Mahindra             30.809107  12.720163            17.443981\n",
      "Maruti Suzuki        16.090729  12.929217             5.812249\n",
      "Maruti Suzuki R       9.433981   0.000000             0.000000\n",
      "Maserati             22.367233  27.060091             0.000000\n",
      "Mg                   14.024352   0.000000             0.000000\n",
      "Mini                 11.154183  11.095711             0.000000\n",
      "Mitsubishi           11.078520   0.000000            28.463752\n",
      "Nissan               30.129128  14.296898            56.144937\n",
      "Not available        57.712775  48.443803             5.735268\n",
      "Porsche              23.947200  21.095249             0.000000\n",
      "Premier              12.037433   0.000000             0.000000\n",
      "Renault              21.751025  14.173668             0.000000\n",
      "Skoda                12.045657   0.000000             0.000000\n",
      "Tata                 28.480345  17.557761            12.303261\n",
      "Toyota               35.590448  10.910103            21.407265\n",
      "Volkswagen           21.162827  10.120309            12.303496\n",
      "Volvo                 6.999048  11.433239             0.000000\n"
     ]
    }
   ],
   "source": [
    "#Performance Comparison:\n",
    "#Task-12 Compare the performance of 'Displacement', 'Cylinders', 'Valves_Per_Cylinder'& calculate the mean,median,std,cv for each manufacturer:\n",
    "measure=car.groupby('Make')[['Displacement', 'Cylinders', 'Valves_Per_Cylinder']]\n",
    "mean=measure.mean()\n",
    "median=measure.median()\n",
    "std=measure.std()\n",
    "cv=(measure.std()/measure.mean())*100\n",
    "print('Mean:',mean)\n",
    "print('=============================================')\n",
    "print('Median:',median)\n",
    "print('=============================================')\n",
    "print('Standard deviation:',std)\n",
    "print('=============================================')\n",
    "print('Coefficient of variance:',cv)\n",
    "\n",
    "#Interpretation:\n",
    "#Under this task I has used groupby to display the mean,median,std,cv for each manufacturer."
   ]
  },
  {
   "cell_type": "code",
   "execution_count": 246,
   "id": "179248a3-f71f-43c9-a212-201665581a69",
   "metadata": {},
   "outputs": [
    {
     "data": {
      "text/html": [
       "<div>\n",
       "<style scoped>\n",
       "    .dataframe tbody tr th:only-of-type {\n",
       "        vertical-align: middle;\n",
       "    }\n",
       "\n",
       "    .dataframe tbody tr th {\n",
       "        vertical-align: top;\n",
       "    }\n",
       "\n",
       "    .dataframe thead th {\n",
       "        text-align: right;\n",
       "    }\n",
       "</style>\n",
       "<table border=\"1\" class=\"dataframe\">\n",
       "  <thead>\n",
       "    <tr style=\"text-align: right;\">\n",
       "      <th></th>\n",
       "      <th></th>\n",
       "      <th>Highway_Mileage_km_litre</th>\n",
       "      <th>City_Mileage_km_litre</th>\n",
       "    </tr>\n",
       "    <tr>\n",
       "      <th>Make</th>\n",
       "      <th></th>\n",
       "      <th></th>\n",
       "      <th></th>\n",
       "    </tr>\n",
       "  </thead>\n",
       "  <tbody>\n",
       "    <tr>\n",
       "      <th rowspan=\"2\" valign=\"top\">Honda</th>\n",
       "      <th>Highway_Mileage_km_litre</th>\n",
       "      <td>1.000000</td>\n",
       "      <td>0.499008</td>\n",
       "    </tr>\n",
       "    <tr>\n",
       "      <th>City_Mileage_km_litre</th>\n",
       "      <td>0.499008</td>\n",
       "      <td>1.000000</td>\n",
       "    </tr>\n",
       "    <tr>\n",
       "      <th rowspan=\"2\" valign=\"top\">Renault</th>\n",
       "      <th>Highway_Mileage_km_litre</th>\n",
       "      <td>1.000000</td>\n",
       "      <td>0.179753</td>\n",
       "    </tr>\n",
       "    <tr>\n",
       "      <th>City_Mileage_km_litre</th>\n",
       "      <td>0.179753</td>\n",
       "      <td>1.000000</td>\n",
       "    </tr>\n",
       "    <tr>\n",
       "      <th rowspan=\"2\" valign=\"top\">Toyota</th>\n",
       "      <th>Highway_Mileage_km_litre</th>\n",
       "      <td>1.000000</td>\n",
       "      <td>0.855050</td>\n",
       "    </tr>\n",
       "    <tr>\n",
       "      <th>City_Mileage_km_litre</th>\n",
       "      <td>0.855050</td>\n",
       "      <td>1.000000</td>\n",
       "    </tr>\n",
       "  </tbody>\n",
       "</table>\n",
       "</div>"
      ],
      "text/plain": [
       "                                  Highway_Mileage_km_litre  \\\n",
       "Make                                                         \n",
       "Honda   Highway_Mileage_km_litre                  1.000000   \n",
       "        City_Mileage_km_litre                     0.499008   \n",
       "Renault Highway_Mileage_km_litre                  1.000000   \n",
       "        City_Mileage_km_litre                     0.179753   \n",
       "Toyota  Highway_Mileage_km_litre                  1.000000   \n",
       "        City_Mileage_km_litre                     0.855050   \n",
       "\n",
       "                                  City_Mileage_km_litre  \n",
       "Make                                                     \n",
       "Honda   Highway_Mileage_km_litre               0.499008  \n",
       "        City_Mileage_km_litre                  1.000000  \n",
       "Renault Highway_Mileage_km_litre               0.179753  \n",
       "        City_Mileage_km_litre                  1.000000  \n",
       "Toyota  Highway_Mileage_km_litre               0.855050  \n",
       "        City_Mileage_km_litre                  1.000000  "
      ]
     },
     "execution_count": 246,
     "metadata": {},
     "output_type": "execute_result"
    }
   ],
   "source": [
    "#Task-13 Identify atleast 3 features that affect mileage(using correlation analysis) for the manufacturers:Renault,Toyota,Honda.\n",
    "new1=car.copy()\n",
    "data=new1[['Make','Highway_Mileage_km_litre','City_Mileage_km_litre']]\n",
    "\n",
    "filter=data[data['Make'].isin(['Honda','Toyota','Renault'])][['Make','Highway_Mileage_km_litre','City_Mileage_km_litre']]\n",
    "filter\n",
    "\n",
    "data=filter.groupby('Make')[['Highway_Mileage_km_litre','City_Mileage_km_litre']]\n",
    "correlation1=data.corr()\n",
    "correlation1"
   ]
  },
  {
   "cell_type": "code",
   "execution_count": 248,
   "id": "a662bd48-2d0e-4be3-96ff-9709cacc5a8a",
   "metadata": {},
   "outputs": [
    {
     "data": {
      "image/png": "[encoded data removed]",
      "text/plain": [
       "<Figure size 640x480 with 2 Axes>"
      ]
     },
     "metadata": {},
     "output_type": "display_data"
    }
   ],
   "source": [
    "sns.heatmap(correlation1.corr(),annot=True,linecolor='red',linewidths=.25)\n",
    "plt.show()\n",
    "#Interpretation:\n",
    "#Under this task I has fetched the record of 'Make' and then displayed the city and highway mileage using groupby('Make' wise city and highway mileage).\n",
    "#I has identified some negative correlation and positive correlation in this by the dark shade and light shade of the line.\n",
    "#Thus there is a negative correlation."
   ]
  },
  {
   "cell_type": "code",
   "execution_count": 769,
   "id": "b41eb836-d09b-4039-b2dd-f855d99d945c",
   "metadata": {},
   "outputs": [],
   "source": [
    "#Weight Distribution study:\n",
    "#Task-14 Calculate 'Make' wise mean,median,std,cv for the Kerb weight and gross vehicle weight:\n",
    "new1=car.copy()"
   ]
  },
  {
   "cell_type": "code",
   "execution_count": 771,
   "id": "efabff7a-e01e-4688-9474-f0e0849dbe53",
   "metadata": {},
   "outputs": [],
   "source": [
    "new1['Kerb_Weight']=new1['Kerb_Weight'].str.replace(r\"kg\",'')"
   ]
  },
  {
   "cell_type": "code",
   "execution_count": 773,
   "id": "be23dfba-1a79-45e6-bf02-54eec92a3d37",
   "metadata": {},
   "outputs": [],
   "source": [
    "new1['Gross_Vehicle_Weight']=new1['Gross_Vehicle_Weight'].str.replace(r\"kg\",'')"
   ]
  },
  {
   "cell_type": "code",
   "execution_count": 775,
   "id": "bd37f833-1dda-4d8a-b983-82d7d531c241",
   "metadata": {},
   "outputs": [],
   "source": [
    "new1['Kerb_Weight']=new1['Kerb_Weight'].str.replace(r\"-\",'')"
   ]
  },
  {
   "cell_type": "code",
   "execution_count": 777,
   "id": "0d2a799c-f9ce-441f-8e80-ebbef8453ee4",
   "metadata": {},
   "outputs": [],
   "source": [
    "new1['Gross_Vehicle_Weight']=new1['Gross_Vehicle_Weight'].str.replace(r\"â€¯ \",'')"
   ]
  },
  {
   "cell_type": "code",
   "execution_count": 779,
   "id": "324d77f3-15d4-474d-85b8-2216b16f7985",
   "metadata": {},
   "outputs": [],
   "source": [
    "new1['Gross_Vehicle_Weight']=new1['Gross_Vehicle_Weight'].replace(['NA '],100.50)"
   ]
  },
  {
   "cell_type": "code",
   "execution_count": 781,
   "id": "1e2c68d9-d4b0-4529-9ab4-db24a188c464",
   "metadata": {},
   "outputs": [],
   "source": [
    "new1=new1.astype({'Kerb_Weight':float})"
   ]
  },
  {
   "cell_type": "code",
   "execution_count": 783,
   "id": "7ff5cbe4-05c9-4577-ac2c-ac458b505f9f",
   "metadata": {},
   "outputs": [],
   "source": [
    "new1=new1.astype({'Gross_Vehicle_Weight':float})"
   ]
  },
  {
   "cell_type": "code",
   "execution_count": 785,
   "id": "15ec9728-d04e-400a-b962-24bf84b277af",
   "metadata": {
    "scrolled": true
   },
   "outputs": [
    {
     "data": {
      "text/plain": [
       "S. No.                              int64\n",
       "Make                               object\n",
       "Model                              object\n",
       "Variant                            object\n",
       "Displacement                      float64\n",
       "Cylinders                         float64\n",
       "Valves_Per_Cylinder               float64\n",
       "Fuel_Tank_Capacity_litre          float64\n",
       "Fuel_Type                          object\n",
       "Height_mm                         float64\n",
       "Length_mm                         float64\n",
       "Width_mm                          float64\n",
       "Body_Type                          object\n",
       "Doors                             float64\n",
       "City_Mileage_km_litre             float64\n",
       "Highway_Mileage_km_litre          float64\n",
       "Kerb_Weight                       float64\n",
       "Power                             float64\n",
       "Torque                            float64\n",
       "Seating_Capacity                  float64\n",
       "Central_Locking                    object\n",
       "Child_Safety_Locks                 object\n",
       "Hill_Assist                        object\n",
       "Drive_Modes                        object\n",
       "High_Speed_Alert_System            object\n",
       "ABS_(Anti-lock_Braking_System)     object\n",
       "Gross_Vehicle_Weight              float64\n",
       "Airbags                            object\n",
       "Door_Ajar_Warning                  object\n",
       "Fasten_Seat_Belt_Warning           object\n",
       "dtype: object"
      ]
     },
     "execution_count": 785,
     "metadata": {},
     "output_type": "execute_result"
    }
   ],
   "source": [
    "new1.dtypes"
   ]
  },
  {
   "cell_type": "code",
   "execution_count": 787,
   "id": "f54003ad-99f0-440b-9614-ae1e9bb1da57",
   "metadata": {},
   "outputs": [
    {
     "name": "stdout",
     "output_type": "stream",
     "text": [
      "Mean:                    Kerb_Weight  Gross_Vehicle_Weight\n",
      "Make                                                \n",
      "Aston Martin      1.733333e+03           2367.000000\n",
      "Audi              1.810000e+03           2298.225806\n",
      "Bajaj             1.785000e+03           2510.000000\n",
      "Bentley           2.457833e+03           3065.666667\n",
      "Bmw               1.745865e+03           2414.864865\n",
      "Bugatti           1.995000e+03           2510.000000\n",
      "Datsun            1.232400e+03           2510.000000\n",
      "Dc                1.580000e+03           1580.000000\n",
      "Ferrari           1.633750e+03           2510.000000\n",
      "Fiat              1.251739e+03           2241.086957\n",
      "Force             1.785000e+03           2598.333333\n",
      "Ford              2.888213e+06           2278.720930\n",
      "Honda             1.142312e+03           1893.906250\n",
      "Hyundai           1.541700e+03           2142.046154\n",
      "Icml              1.717636e+03           2473.636364\n",
      "Isuzu             1.877000e+03           2392.000000\n",
      "Jaguar            1.741409e+03           2315.636364\n",
      "Jeep              1.709929e+03           2573.357143\n",
      "Kia               1.785000e+03           2510.000000\n",
      "Lamborghini       1.567923e+03           2510.000000\n",
      "Land Rover        1.845400e+03           2510.000000\n",
      "Land Rover Rover  2.185370e+03           2817.777778\n",
      "Lexus             2.182700e+03           2746.000000\n",
      "Mahindra          1.721084e+03           2386.672269\n",
      "Maruti Suzuki     9.465503e+02           1571.047297\n",
      "Maruti Suzuki R   1.648571e+03           2342.857143\n",
      "Maserati          1.841111e+03           2340.333333\n",
      "Mg                1.785000e+03           2510.000000\n",
      "Mini              1.559000e+03           2430.000000\n",
      "Mitsubishi        1.959571e+03           2610.000000\n",
      "Nissan            1.630862e+03           2319.517241\n",
      "Not available     1.923520e+03           2488.493333\n",
      "Porsche           1.929286e+03           2303.571429\n",
      "Premier           1.123333e+03           1530.000000\n",
      "Renault           1.106139e+03           2169.972222\n",
      "Skoda             1.345837e+03           1874.767442\n",
      "Tata              1.501360e+03           2304.960000\n",
      "Toyota            1.295524e+03           1967.560976\n",
      "Volkswagen        1.206235e+03           1757.941176\n",
      "Volvo             2.110167e+03           2335.611111\n",
      "=============================================\n",
      "Median:                   Kerb_Weight  Gross_Vehicle_Weight\n",
      "Make                                               \n",
      "Aston Martin           1680.0                2510.0\n",
      "Audi                   1780.0                2185.0\n",
      "Bajaj                  1785.0                2510.0\n",
      "Bentley                2425.0                3086.0\n",
      "Bmw                    1785.0                2510.0\n",
      "Bugatti                1995.0                2510.0\n",
      "Datsun                  864.0                2510.0\n",
      "Dc                     1580.0                1580.0\n",
      "Ferrari                1577.5                2510.0\n",
      "Fiat                   1215.0                2510.0\n",
      "Force                  1785.0                2510.0\n",
      "Ford                   1304.0                2510.0\n",
      "Honda                  1102.0                2510.0\n",
      "Hyundai                1785.0                2510.0\n",
      "Icml                   1710.0                2460.0\n",
      "Isuzu                  1935.0                2510.0\n",
      "Jaguar                 1730.0                2350.0\n",
      "Jeep                   1562.0                2510.0\n",
      "Kia                    1785.0                2510.0\n",
      "Lamborghini            1422.0                2510.0\n",
      "Land Rover             1785.0                2510.0\n",
      "Land Rover Rover       2134.0                3000.0\n",
      "Lexus                  2247.5                2725.0\n",
      "Mahindra               1785.0                2510.0\n",
      "Maruti Suzuki           915.0                1405.0\n",
      "Maruti Suzuki R        1785.0                2510.0\n",
      "Maserati               1810.0                2350.0\n",
      "Mg                     1785.0                2510.0\n",
      "Mini                   1577.5                2510.0\n",
      "Mitsubishi             1935.0                2600.0\n",
      "Nissan                 1785.0                2510.0\n",
      "Not available          1785.0                2510.0\n",
      "Porsche                1865.0                2510.0\n",
      "Premier                1145.0                1530.0\n",
      "Renault                1296.0                2510.0\n",
      "Skoda                  1340.0                1860.0\n",
      "Tata                   1785.0                2510.0\n",
      "Toyota                 1100.0                1670.0\n",
      "Volkswagen             1148.0                1630.0\n",
      "Volvo                  1785.0                2510.0\n",
      "=============================================\n",
      "Standard deviation:                    Kerb_Weight  Gross_Vehicle_Weight\n",
      "Make                                                \n",
      "Aston Martin      2.345918e+02            247.683265\n",
      "Audi              3.423789e+02            385.591641\n",
      "Bajaj             0.000000e+00              0.000000\n",
      "Bentley           1.222611e+02            201.591336\n",
      "Bmw               9.232887e+01            224.680287\n",
      "Bugatti           0.000000e+00              0.000000\n",
      "Datsun            4.670322e+02              0.000000\n",
      "Dc                         NaN                   NaN\n",
      "Ferrari           2.043762e+02              0.000000\n",
      "Fiat              1.757928e+02            580.493435\n",
      "Force             0.000000e+00            136.845412\n",
      "Ford              4.696013e+06            376.220384\n",
      "Honda             1.929072e+02            661.990522\n",
      "Hyundai           3.406114e+02            551.189803\n",
      "Icml              1.307878e+01             23.354968\n",
      "Isuzu             8.408329e+01            161.925909\n",
      "Jaguar            1.001331e+02            214.244752\n",
      "Jeep              3.124798e+02            158.043645\n",
      "Kia               0.000000e+00              0.000000\n",
      "Lamborghini       2.353032e+02              0.000000\n",
      "Land Rover        1.273344e+02              0.000000\n",
      "Land Rover Rover  3.488942e+02            297.390359\n",
      "Lexus             3.419740e+02            354.728378\n",
      "Mahindra          1.963893e+02            280.250497\n",
      "Maruti Suzuki     1.824478e+02            424.360364\n",
      "Maruti Suzuki R   3.467954e+02            424.869728\n",
      "Maserati          7.087744e+01            176.332782\n",
      "Mg                0.000000e+00              0.000000\n",
      "Mini              2.822607e+02            252.982213\n",
      "Mitsubishi        2.151309e+02            289.251909\n",
      "Nissan            2.661280e+02            348.979596\n",
      "Not available     3.785628e+02            388.835523\n",
      "Porsche           3.960374e+02            355.730173\n",
      "Premier           3.356586e+01              0.000000\n",
      "Renault           3.730388e+02            454.575500\n",
      "Skoda             1.691711e+02            168.505170\n",
      "Tata              4.605851e+02            474.161523\n",
      "Toyota            4.248212e+02            524.645821\n",
      "Volkswagen        1.985436e+02            328.723697\n",
      "Volvo             6.155531e+02            305.526958\n",
      "=============================================\n",
      "Coefficient of variance:                   Kerb_Weight  Gross_Vehicle_Weight\n",
      "Make                                               \n",
      "Aston Martin        13.534145             10.464016\n",
      "Audi                18.915963             16.777796\n",
      "Bajaj                0.000000              0.000000\n",
      "Bentley              4.974343              6.575775\n",
      "Bmw                  5.288432              9.304052\n",
      "Bugatti              0.000000              0.000000\n",
      "Datsun              37.896157              0.000000\n",
      "Dc                        NaN                   NaN\n",
      "Ferrari             12.509639              0.000000\n",
      "Fiat                14.043885             25.902316\n",
      "Force                0.000000              5.266661\n",
      "Ford               162.592345             16.510156\n",
      "Honda               16.887431             34.953711\n",
      "Hyundai             22.093237             25.731929\n",
      "Icml                 0.761441              0.944155\n",
      "Isuzu                4.479664              6.769478\n",
      "Jaguar               5.750118              9.252090\n",
      "Jeep                18.274436              6.141536\n",
      "Kia                  0.000000              0.000000\n",
      "Lamborghini         15.007315              0.000000\n",
      "Land Rover           6.900096              0.000000\n",
      "Land Rover Rover    15.964992             10.554074\n",
      "Lexus               15.667477             12.918004\n",
      "Mahindra            11.410791             11.742312\n",
      "Maruti Suzuki       19.275018             27.011304\n",
      "Maruti Suzuki R     21.036115             18.134684\n",
      "Maserati             3.849710              7.534516\n",
      "Mg                   0.000000              0.000000\n",
      "Mini                18.105241             10.410791\n",
      "Mitsubishi          10.978465             11.082449\n",
      "Nissan              16.318242             15.045355\n",
      "Not available       19.680729             15.625339\n",
      "Porsche             20.527669             15.442550\n",
      "Premier              2.988058              0.000000\n",
      "Renault             33.724409             20.948448\n",
      "Skoda               12.569951              8.988057\n",
      "Tata                30.677862             20.571356\n",
      "Toyota              32.791447             26.664781\n",
      "Volkswagen          16.459778             18.699357\n",
      "Volvo               29.170831             13.081243\n"
     ]
    }
   ],
   "source": [
    "new1=new1.groupby('Make')[['Kerb_Weight','Gross_Vehicle_Weight']]\n",
    "mean=new1.mean()\n",
    "median=new1.median()\n",
    "std=new1.std()\n",
    "cv=(new1.std()/new1.mean())*100\n",
    "print('Mean:',mean)\n",
    "print('=============================================')\n",
    "print('Median:',median)\n",
    "print('=============================================')\n",
    "print('Standard deviation:',std)\n",
    "print('=============================================')\n",
    "print('Coefficient of variance:',cv)\n",
    "\n",
    "#Interpretation:\n",
    "#First I has changed the datatype into float and then calculated all.\n",
    "#Under this task I used groupby to find the 'Make' wise mean,median,std,cv."
   ]
  }
 ],
 "metadata": {
  "kernelspec": {
   "display_name": "Python 3 (ipykernel)",
   "language": "python",
   "name": "python3"
  },
  "language_info": {
   "codemirror_mode": {
    "name": "ipython",
    "version": 3
   },
   "file_extension": ".py",
   "mimetype": "text/x-python",
   "name": "python",
   "nbconvert_exporter": "python",
   "pygments_lexer": "ipython3",
   "version": "3.12.4"
  }
 },
 "nbformat": 4,
 "nbformat_minor": 5
}
